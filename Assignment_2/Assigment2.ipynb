{
 "cells": [
  {
   "cell_type": "code",
   "execution_count": 1,
   "metadata": {
    "scrolled": true
   },
   "outputs": [],
   "source": [
    "import numpy as np\n",
    "import igl\n",
    "import meshplot as mp\n",
    "\n",
    "import time\n",
    "from IPython.display import IFrame"
   ]
  },
  {
   "cell_type": "code",
   "execution_count": 2,
   "metadata": {
    "scrolled": true
   },
   "outputs": [],
   "source": [
    "# Utility function to generate a tet grid\n",
    "# n is a 3-tuple with the number of cell in every direction\n",
    "# mmin/mmax are the grid bounding box corners\n",
    "\n",
    "def tet_grid(n, mmin, mmax):\n",
    "    nx = n[0]\n",
    "    ny = n[1]\n",
    "    nz = n[2]\n",
    "    \n",
    "    delta = mmax-mmin\n",
    "    \n",
    "    deltax = delta[0]/(nx-1)\n",
    "    deltay = delta[1]/(ny-1)\n",
    "    deltaz = delta[2]/(nz-1)\n",
    "    \n",
    "    T = np.zeros(((nx-1)*(ny-1)*(nz-1)*6, 4), dtype=np.int64)\n",
    "    V = np.zeros((nx*ny*nz, 3))\n",
    "\n",
    "    mapping = -np.ones((nx, ny, nz), dtype=np.int64)\n",
    "\n",
    "\n",
    "    index = 0\n",
    "    for i in range(nx):\n",
    "        for j in range(ny):\n",
    "            for k in range(nz):\n",
    "                mapping[i, j, k] = index\n",
    "                V[index, :] = [i*deltax, j*deltay, k*deltaz]\n",
    "                index += 1\n",
    "    assert(index == V.shape[0])\n",
    "    \n",
    "    tets = np.array([\n",
    "        [0,1,3,4],\n",
    "        [5,2,6,7],\n",
    "        [4,1,5,3],\n",
    "        [4,3,7,5],\n",
    "        [3,1,5,2],\n",
    "        [2,3,7,5]\n",
    "    ])\n",
    "    \n",
    "    index = 0\n",
    "    for i in range(nx-1):\n",
    "        for j in range(ny-1):\n",
    "            for k in range(nz-1):\n",
    "                indices = [\n",
    "                    (i,   j,   k),\n",
    "                    (i+1, j,   k),\n",
    "                    (i+1, j+1, k),\n",
    "                    (i,   j+1, k),\n",
    "\n",
    "                    (i,   j,   k+1),\n",
    "                    (i+1, j,   k+1),\n",
    "                    (i+1, j+1, k+1),\n",
    "                    (i,   j+1, k+1),\n",
    "                ]\n",
    "                \n",
    "                for t in range(tets.shape[0]):\n",
    "                    tmp = [mapping[indices[ii]] for ii in tets[t, :]]\n",
    "                    T[index, :]=tmp\n",
    "                    index += 1\n",
    "                    \n",
    "    assert(index == T.shape[0])\n",
    "    \n",
    "    V += mmin\n",
    "    return V, T"
   ]
  },
  {
   "cell_type": "markdown",
   "metadata": {},
   "source": [
    "# Reading point cloud"
   ]
  },
  {
   "cell_type": "code",
   "execution_count": 3,
   "metadata": {},
   "outputs": [
    {
     "data": {
      "application/vnd.jupyter.widget-view+json": {
       "model_id": "85c210b5e65b4d839fce75eafffe1342",
       "version_major": 2,
       "version_minor": 0
      },
      "text/plain": [
       "Renderer(camera=PerspectiveCamera(children=(DirectionalLight(color='white', intensity=0.6, position=(5.0, -23.…"
      ]
     },
     "metadata": {},
     "output_type": "display_data"
    },
    {
     "data": {
      "text/plain": [
       "<meshplot.Viewer.Viewer at 0x11805e8d0>"
      ]
     },
     "execution_count": 3,
     "metadata": {},
     "output_type": "execute_result"
    }
   ],
   "source": [
    "pi, v = igl.read_triangle_mesh(\"data/cat.off\")\n",
    "pi /= 10\n",
    "ni = igl.per_vertex_normals(pi, v)\n",
    "mp.plot(pi, shading={\"point_size\": 4})"
   ]
  },
  {
   "cell_type": "code",
   "execution_count": 4,
   "metadata": {},
   "outputs": [
    {
     "data": {
      "application/vnd.jupyter.widget-view+json": {
       "model_id": "2fd4653e1e214b569e483a21d629fc46",
       "version_major": 2,
       "version_minor": 0
      },
      "text/plain": [
       "Renderer(camera=PerspectiveCamera(children=(DirectionalLight(color='white', intensity=0.6, position=(5.0, -23.…"
      ]
     },
     "metadata": {},
     "output_type": "display_data"
    },
    {
     "name": "stdout",
     "output_type": "stream",
     "text": [
      "Plot saved to file Fig1_constraint.html.\n"
     ]
    },
    {
     "data": {
      "text/html": [
       "\n",
       "        <iframe\n",
       "            width=\"700\"\n",
       "            height=\"600\"\n",
       "            src=\"Fig1_constraint.html\"\n",
       "            frameborder=\"0\"\n",
       "            allowfullscreen\n",
       "            \n",
       "        ></iframe>\n",
       "        "
      ],
      "text/plain": [
       "<IPython.lib.display.IFrame at 0x105ea4f50>"
      ]
     },
     "execution_count": 4,
     "metadata": {},
     "output_type": "execute_result"
    }
   ],
   "source": [
    "# retreives the index of the closest point to point in points\n",
    "def find_closest_point(point, points):\n",
    "    return np.argmin(np.linalg.norm(points - point, 2, axis=1))\n",
    "\n",
    "# Setting up the Constraints\n",
    "def constraints(points, normals, eps):\n",
    "    \"\"\"\n",
    "    add constraint points to point clou\n",
    "    \n",
    "    \"\"\"\n",
    "    fip = np.empty(points.shape[0])\n",
    "    fim = np.empty(points.shape[0])\n",
    "    pip = np.empty(points.shape)\n",
    "    pim = np.empty(points.shape)\n",
    "    for i in range(points.shape[0]):\n",
    "        pi = points[i]\n",
    "        epsp = eps\n",
    "        epsm = eps\n",
    "        pipi = pi + eps * normals[i]\n",
    "        while (find_closest_point(pipi, points) != i):\n",
    "            epsp = epsp / 2\n",
    "            pipi = pi + epsp * normals[i]\n",
    "        pip[i,:] = pipi\n",
    "        fip[i] = epsp\n",
    "        \n",
    "        pimi = pi - eps * normals[i]\n",
    "        while (find_closest_point(pimi, points) != i):\n",
    "            epsm = epsm / 2\n",
    "            pimi = pi - epsm * normals[i]\n",
    "        pim[i,:] = pimi\n",
    "        fim[i] = -epsm\n",
    "        \n",
    "    fi = np.zeros(points.shape[0])\n",
    "    # concat the original points with the added constraint points\n",
    "    p = np.concatenate((points, pip, pim))\n",
    "    f = np.concatenate((fi, fip, fim))\n",
    "    return p,f\n",
    "\n",
    "box_max = np.max(pi, axis=0)\n",
    "box_min = np.min(pi, axis=0)\n",
    "box_diag = np.linalg.norm(box_max-box_min, 2)\n",
    "eps = 0.01 * box_diag\n",
    "\n",
    "p, f = constraints(pi, ni, eps)\n",
    "\n",
    "plt1 = mp.plot(p[np.where(f==0)], shading={\"point_size\": 4, \"point_color\": \"red\"})\n",
    "plt1.add_points(p[np.where(f>0)], shading={\"point_size\": 4, \"point_color\": \"blue\"}) # outside\n",
    "plt1.add_points(p[np.where(f<0)], shading={\"point_size\": 4, \"point_color\": \"green\"}) # inside\n",
    "plt1.save(\"Fig1_constraint.html\")\n",
    "IFrame(src='Fig1_constraint.html', width=700, height=600)"
   ]
  },
  {
   "cell_type": "markdown",
   "metadata": {},
   "source": [
    "# MLS function"
   ]
  },
  {
   "cell_type": "code",
   "execution_count": 5,
   "metadata": {},
   "outputs": [],
   "source": [
    "def closest_points(point, points, h, p=2):\n",
    "    \"\"\"\n",
    "    Linear search to find all points that has distance < h to the given point\n",
    "    \"\"\"\n",
    "    return np.where(np.linalg.norm(point - points, p, axis=1) < h)[0]\n",
    "    \n",
    "def MLS(x, pt, fs, h, polyDegree):\n",
    "    \"\"\"\n",
    "    Moving least square algorithm\n",
    " \n",
    "    Args:\n",
    "        x (np.array(n**3)): bounding uniform tet grid \n",
    "        pt (np.ndarray((#V, 3))): constraint point cloud \n",
    "        fs (np.array(#V): corresponding implicit function values for point cloud\n",
    "        h (float): Wendland radius\n",
    "        polyDegree (0/1/2): polynomial degree\n",
    " \n",
    "    Returns:\n",
    "        np.ndarray((n**3, 3)): bounding uniform tet grid \n",
    "        T: tet faces\n",
    "        np.array(n**3): interpolated value computed at each tet grid point\n",
    "    \"\"\"\n",
    "    \n",
    "    deg = {0:1, 1:4, 2:10}[polyDegree]\n",
    "    # B (#V x deg): global basis matrix of constraints 1,x,y,z,x^2,y^2,z^2,xy,xz,yz\n",
    "    B = np.vstack((np.ones(pt.shape[0]), \n",
    "                  pt[:,0], pt[:,1], pt[:,2], \n",
    "                  np.multiply(pt[:,0],pt[:,1]), np.multiply(pt[:,0],pt[:,2]), np.multiply(pt[:,1],pt[:,2]),\n",
    "                  np.power(pt[:,0],2), np.power(pt[:,1],2), np.power(pt[:,2],2) \n",
    "                  )).T[:, 0:deg]\n",
    "\n",
    "    # MLS on each tet grid point\n",
    "    values = np.empty(x.shape[0])\n",
    "    for i in range(x.shape[0]):\n",
    "        xi = x[i]\n",
    "        # find adj nodal points falls within the radius that have wendland weight > 0, adj_pts << n**3\n",
    "        adjs = closest_points(xi, pt, h)\n",
    "        # if not enough points, assign a large positive value to the grid point\n",
    "        if (adjs.shape[0] < np.ceil(deg)):\n",
    "            values[i] = 100000\n",
    "        else:\n",
    "            # B local matrix of adj pts, (adj_pts x deg), where adj_pts >= deg\n",
    "            Bx = B[adjs,:]\n",
    "            # constraint vector evaluated at each interpolant, (adj_pts x 1)\n",
    "            dx = fs[adjs]\n",
    "            # diagonal weights for each adj pts, (adj_pts x adj_pts)\n",
    "            cis = pt[adjs]        \n",
    "            dist = np.linalg.norm(xi-cis, 2, axis=1)\n",
    "            W = (1-dist/h)**4 * (4*dist/h+1)\n",
    "            W = np.diag(W)\n",
    "            # Solving coeff vector (deg x 1) from the linear system: (B'WB)a = B'W dx\n",
    "            # B'WB a : (deg x deg)(deg x 1)\n",
    "            # B'W dx : (deg x adj_pts)(adj_pts x 1)\n",
    "            ax = np.linalg.solve(Bx.T@W@Bx, Bx.T@W@dx)\n",
    "            bx = np.array([1, xi[0], xi[1], xi[2], xi[0]*xi[1], xi[0]*xi[2], xi[1]*xi[2], xi[0]**2, xi[1]**2, xi[2]**2])[0:deg]\n",
    "            values[i] = bx.dot(ax)\n",
    "    return values"
   ]
  },
  {
   "cell_type": "code",
   "execution_count": 6,
   "metadata": {},
   "outputs": [],
   "source": [
    "# filter and plot the component with largest length\n",
    "def filter_largest_comp(sf):\n",
    "    \"\"\"\n",
    "    Filter out the largest connected component\n",
    "\n",
    "    Args:\n",
    "        sf: all surfaces\n",
    "\n",
    "    Returns:\n",
    "        surfaces of the largest connected component\n",
    "    \"\"\"\n",
    "    comp = igl.facet_components(sf)\n",
    "    maxi = 0\n",
    "    maxval = -np.inf\n",
    "    maxind = np.array([])\n",
    "    for i in range(np.max(comp)):\n",
    "        val = comp[np.where(comp==i)[0]].shape[0]\n",
    "        if (val > maxval):\n",
    "            maxi = i\n",
    "            maxval = val\n",
    "    return sf[np.where(comp==maxi)[0]]"
   ]
  },
  {
   "cell_type": "markdown",
   "metadata": {},
   "source": [
    "# Marching to Extract the Surface\n",
    "\n",
    "## Experiment with degree = 0"
   ]
  },
  {
   "cell_type": "code",
   "execution_count": 7,
   "metadata": {},
   "outputs": [
    {
     "data": {
      "application/vnd.jupyter.widget-view+json": {
       "model_id": "f016fbead5644f0392d8ff2018429fca",
       "version_major": 2,
       "version_minor": 0
      },
      "text/plain": [
       "Renderer(camera=PerspectiveCamera(children=(DirectionalLight(color='white', intensity=0.6, position=(5.0120954…"
      ]
     },
     "metadata": {},
     "output_type": "display_data"
    },
    {
     "name": "stdout",
     "output_type": "stream",
     "text": [
      "Plot saved to file Fig2_deg0_pt.html.\n"
     ]
    },
    {
     "data": {
      "text/html": [
       "\n",
       "        <iframe\n",
       "            width=\"700\"\n",
       "            height=\"600\"\n",
       "            src=\"Fig2_deg0_pt.html\"\n",
       "            frameborder=\"0\"\n",
       "            allowfullscreen\n",
       "            \n",
       "        ></iframe>\n",
       "        "
      ],
      "text/plain": [
       "<IPython.lib.display.IFrame at 0x1180c7350>"
      ]
     },
     "execution_count": 7,
     "metadata": {},
     "output_type": "execute_result"
    }
   ],
   "source": [
    "# global configs here\n",
    "wendlandRadius = 18\n",
    "polyDegree = 0 # 0, 1, 2\n",
    "resolution = (50,50,50)\n",
    "\n",
    "# construct grid\n",
    "box_max = np.max(p, axis=0)\n",
    "box_min = np.min(p, axis=0)\n",
    "box_diag = np.linalg.norm(box_max-box_min, 2) # approx 147\n",
    "x, T = tet_grid(resolution, box_min-0.05*box_diag, box_max+0.05*box_diag)\n",
    "\n",
    "values = MLS(x, p, f, wendlandRadius, polyDegree)\n",
    "\n",
    "inds = np.zeros((resolution[0]*resolution[1]*resolution[2], 3))\n",
    "inds[values >= 0, :] = np.array([0,1,0])\n",
    "inds[values < 0, :] = np.array([1,0,0])\n",
    "\n",
    "plt2 = mp.plot(x, c=inds, shading={\"point_size\": 3,\"width\": 800, \"height\": 800}) \n",
    "plt2.save(\"Fig2_deg0_pt.html\")\n",
    "IFrame(src='Fig2_deg0_pt.html', width=700, height=600)"
   ]
  },
  {
   "cell_type": "code",
   "execution_count": 8,
   "metadata": {},
   "outputs": [
    {
     "data": {
      "application/vnd.jupyter.widget-view+json": {
       "model_id": "0e1768435e80480fba7356bf102c7a2d",
       "version_major": 2,
       "version_minor": 0
      },
      "text/plain": [
       "Renderer(camera=PerspectiveCamera(children=(DirectionalLight(color='white', intensity=0.6, position=(5.0816192…"
      ]
     },
     "metadata": {},
     "output_type": "display_data"
    },
    {
     "name": "stdout",
     "output_type": "stream",
     "text": [
      "Plot saved to file Fig3_deg0.html.\n"
     ]
    },
    {
     "data": {
      "text/html": [
       "\n",
       "        <iframe\n",
       "            width=\"700\"\n",
       "            height=\"600\"\n",
       "            src=\"Fig3_deg0.html\"\n",
       "            frameborder=\"0\"\n",
       "            allowfullscreen\n",
       "            \n",
       "        ></iframe>\n",
       "        "
      ],
      "text/plain": [
       "<IPython.lib.display.IFrame at 0x1180b1b10>"
      ]
     },
     "execution_count": 8,
     "metadata": {},
     "output_type": "execute_result"
    }
   ],
   "source": [
    "# Marcing tet to extract zero-level surface\n",
    "sv1, sf1, _, _ = igl.marching_tets(x, T, values, 0)\n",
    "filtered_sf = filter_largest_comp(sf1)\n",
    "plt3 = mp.plot(sv1, filtered_sf, shading={\"wireframe\": True})\n",
    "plt3.save(\"Fig3_deg0.html\")\n",
    "IFrame(src='Fig3_deg0.html', width=700, height=600)"
   ]
  },
  {
   "cell_type": "code",
   "execution_count": 9,
   "metadata": {},
   "outputs": [
    {
     "data": {
      "application/vnd.jupyter.widget-view+json": {
       "model_id": "e3b29b14d5324a40ab058ad877c23c34",
       "version_major": 2,
       "version_minor": 0
      },
      "text/plain": [
       "Renderer(camera=PerspectiveCamera(children=(DirectionalLight(color='white', intensity=0.6, position=(5.0120954…"
      ]
     },
     "metadata": {},
     "output_type": "display_data"
    },
    {
     "name": "stdout",
     "output_type": "stream",
     "text": [
      "Plot saved to file Fig4_deg1_pt.html.\n"
     ]
    },
    {
     "data": {
      "text/html": [
       "\n",
       "        <iframe\n",
       "            width=\"700\"\n",
       "            height=\"600\"\n",
       "            src=\"Fig4_deg1_pt.html\"\n",
       "            frameborder=\"0\"\n",
       "            allowfullscreen\n",
       "            \n",
       "        ></iframe>\n",
       "        "
      ],
      "text/plain": [
       "<IPython.lib.display.IFrame at 0x1180eab50>"
      ]
     },
     "execution_count": 9,
     "metadata": {},
     "output_type": "execute_result"
    }
   ],
   "source": [
    "# global configs here\n",
    "wendlandRadius = 18\n",
    "polyDegree = 1 # 0, 1, 2\n",
    "resolution = (50,50,50)\n",
    "\n",
    "# construct grid\n",
    "box_max = np.max(p, axis=0)\n",
    "box_min = np.min(p, axis=0)\n",
    "box_diag = np.linalg.norm(box_max-box_min, 2) # approx 147\n",
    "x, T = tet_grid(resolution, box_min-0.05*box_diag, box_max+0.05*box_diag)\n",
    "\n",
    "values = MLS(x, p, f, wendlandRadius, polyDegree)\n",
    "\n",
    "inds = np.zeros((resolution[0]*resolution[1]*resolution[2], 3))\n",
    "inds[values >= 0, :] = np.array([0,1,0])\n",
    "inds[values < 0, :] = np.array([1,0,0])\n",
    "\n",
    "plt4 = mp.plot(x, c=inds, shading={\"point_size\": 3,\"width\": 800, \"height\": 800})    \n",
    "plt4.save(\"Fig4_deg1_pt.html\")\n",
    "IFrame(src='Fig4_deg1_pt.html', width=700, height=600)"
   ]
  },
  {
   "cell_type": "code",
   "execution_count": 10,
   "metadata": {},
   "outputs": [
    {
     "data": {
      "application/vnd.jupyter.widget-view+json": {
       "model_id": "c7e3d50cb7bc4af09cd3624bc3663ea9",
       "version_major": 2,
       "version_minor": 0
      },
      "text/plain": [
       "Renderer(camera=PerspectiveCamera(children=(DirectionalLight(color='white', intensity=0.6, position=(5.0120954…"
      ]
     },
     "metadata": {},
     "output_type": "display_data"
    },
    {
     "name": "stdout",
     "output_type": "stream",
     "text": [
      "Plot saved to file Fig5_deg1.html.\n"
     ]
    },
    {
     "data": {
      "text/html": [
       "\n",
       "        <iframe\n",
       "            width=\"700\"\n",
       "            height=\"600\"\n",
       "            src=\"Fig5_deg1.html\"\n",
       "            frameborder=\"0\"\n",
       "            allowfullscreen\n",
       "            \n",
       "        ></iframe>\n",
       "        "
      ],
      "text/plain": [
       "<IPython.lib.display.IFrame at 0x11807b890>"
      ]
     },
     "execution_count": 10,
     "metadata": {},
     "output_type": "execute_result"
    }
   ],
   "source": [
    "# Marcing tet to extract zero-level surface\n",
    "sv1, sf1, _, _ = igl.marching_tets(x, T, values, 0)\n",
    "filtered_sf = filter_largest_comp(sf1)\n",
    "plt5 = mp.plot(sv1, filtered_sf, shading={\"wireframe\": True})\n",
    "plt5.save(\"Fig5_deg1.html\")\n",
    "IFrame(src='Fig5_deg1.html', width=700, height=600)"
   ]
  },
  {
   "cell_type": "markdown",
   "metadata": {},
   "source": [
    "## Experiment with degree = 2"
   ]
  },
  {
   "cell_type": "code",
   "execution_count": 11,
   "metadata": {},
   "outputs": [
    {
     "data": {
      "application/vnd.jupyter.widget-view+json": {
       "model_id": "8b475a6b8c6247aaa3748dc34a7d5a62",
       "version_major": 2,
       "version_minor": 0
      },
      "text/plain": [
       "Renderer(camera=PerspectiveCamera(children=(DirectionalLight(color='white', intensity=0.6, position=(5.0, -23.…"
      ]
     },
     "metadata": {},
     "output_type": "display_data"
    },
    {
     "name": "stdout",
     "output_type": "stream",
     "text": [
      "Plot saved to file Fig6_deg2_pt.html.\n"
     ]
    },
    {
     "data": {
      "text/html": [
       "\n",
       "        <iframe\n",
       "            width=\"700\"\n",
       "            height=\"600\"\n",
       "            src=\"Fig6_deg2_pt.html\"\n",
       "            frameborder=\"0\"\n",
       "            allowfullscreen\n",
       "            \n",
       "        ></iframe>\n",
       "        "
      ],
      "text/plain": [
       "<IPython.lib.display.IFrame at 0x1180dc250>"
      ]
     },
     "execution_count": 11,
     "metadata": {},
     "output_type": "execute_result"
    }
   ],
   "source": [
    "# global configs here\n",
    "wendlandRadius = 18\n",
    "polyDegree = 2 # 0, 1, 2\n",
    "resolution = (50,50,50)\n",
    "\n",
    "# construct grid\n",
    "box_max = np.max(pi, axis=0)\n",
    "box_min = np.min(pi, axis=0)\n",
    "box_diag = np.linalg.norm(box_max-box_min, 2) # approx 147\n",
    "eps = 0.01 * box_diag\n",
    "x, T = tet_grid(resolution, box_min-0.05*box_diag, box_max+0.05*box_diag)\n",
    "p, f = constraints(pi, ni, eps)\n",
    "values = MLS(x, p, f, wendlandRadius, polyDegree)\n",
    "\n",
    "inds = np.zeros((resolution[0]*resolution[1]*resolution[2], 3))\n",
    "inds[values >= 0, :] = np.array([0,1,0])\n",
    "inds[values < 0, :] = np.array([1,0,0])\n",
    "plt6 = mp.plot(x, c=inds, shading={\"point_size\": 3,\"width\": 800, \"height\": 800})    \n",
    "plt6.save(\"Fig6_deg2_pt.html\")\n",
    "IFrame(src='Fig6_deg2_pt.html', width=700, height=600)"
   ]
  },
  {
   "cell_type": "code",
   "execution_count": 12,
   "metadata": {},
   "outputs": [
    {
     "data": {
      "application/vnd.jupyter.widget-view+json": {
       "model_id": "5266265c91d74ab0b0545e4fe8adaf08",
       "version_major": 2,
       "version_minor": 0
      },
      "text/plain": [
       "Renderer(camera=PerspectiveCamera(children=(DirectionalLight(color='white', intensity=0.6, position=(5.0, -23.…"
      ]
     },
     "metadata": {},
     "output_type": "display_data"
    },
    {
     "name": "stdout",
     "output_type": "stream",
     "text": [
      "Plot saved to file Fig7_deg2.html.\n"
     ]
    },
    {
     "data": {
      "text/html": [
       "\n",
       "        <iframe\n",
       "            width=\"700\"\n",
       "            height=\"600\"\n",
       "            src=\"Fig7_deg2.html\"\n",
       "            frameborder=\"0\"\n",
       "            allowfullscreen\n",
       "            \n",
       "        ></iframe>\n",
       "        "
      ],
      "text/plain": [
       "<IPython.lib.display.IFrame at 0x11840d650>"
      ]
     },
     "execution_count": 12,
     "metadata": {},
     "output_type": "execute_result"
    }
   ],
   "source": [
    "# Marcing tet to extract zero-level surface\n",
    "sv1, sf1, _, _ = igl.marching_tets(x, T, values, 0)\n",
    "filtered_sf = filter_largest_comp(sf1)\n",
    "plt7 = mp.plot(sv1, filtered_sf, shading={\"wireframe\": True})\n",
    "plt7.save(\"Fig7_deg2.html\")\n",
    "IFrame(src='Fig7_deg2.html', width=700, height=600)"
   ]
  },
  {
   "cell_type": "markdown",
   "metadata": {},
   "source": [
    "## Experiment Observation:\n",
    "\n",
    "### Selected surface regions to compare the influence of PolyDegree\n",
    "\n",
    "Global variables: radius=18, resolution=50x50x50\n",
    "\n",
    "From left to right: PolyDegree=0,1,2\n",
    "<div>\n",
    "<img src=\"img/deg0.png\" alt=\"drawing\" width=\"200\"/>\n",
    "<img src=\"img/deg1.png\" alt=\"drawing\" width=\"200\"/>\n",
    "<img src=\"img/deg2.png\" alt=\"drawing\" width=\"200\"/>\n",
    "</div>\n",
    "<div>\n",
    "<img src=\"img/deg0_noise.png\" alt=\"drawing\" width=\"200\"/>\n",
    "<img src=\"img/deg1_noise.png\" alt=\"drawing\" width=\"200\"/>\n",
    "<img src=\"img/deg2_noise.png\" alt=\"drawing\" width=\"200\"/>\n",
    "</div>\n",
    "\n",
    "### Higher Order Interpolation Captures Higher Curvature Surface:\n",
    "\n",
    "I test the algorithm with different polyDegree for interpolation. Comparing the local shape of specific surface areas (like the ear tips and the face shape of the cat), it is implied that higher order interpolation MLS can reconstruct surface with higher curvature, and surface reveals more local details as degree increases. \n",
    "\n",
    "### Higher Order Interpolation is Prone to Noise / Missing Data: \n",
    "\n",
    "More local details usually means more noise. For higher degree interpolation, MLS is more prone to noise, which happens when there is not enough points. As we can see, as the original point cloud lack points at the bottom (around the cat's arms/paws), for polyDegree = 2, the reconstruction suffers greatly from the noise at the bottom and the arms/paws, resulting in undesired artifacts and unsmooth surface.\n"
   ]
  },
  {
   "cell_type": "markdown",
   "metadata": {},
   "source": [
    "# Implementing a spatial index to accelerate neighbor calculations"
   ]
  },
  {
   "cell_type": "code",
   "execution_count": 13,
   "metadata": {},
   "outputs": [],
   "source": [
    "# spatial index binning vertices into their enclosing grid cells \n",
    "def spatial_ind_at_res(pts, x, n):\n",
    "    \"\"\"\n",
    "    Build a two-way relationship between points and each cell of the grid\n",
    "    Args:\n",
    "        pts (#V, 3): point cloud\n",
    "        x (#N, 3): volumeric grid\n",
    "        n: (#Nx, #Ny, #Nz) resolution at each axis of the grid\n",
    "    Returns:\n",
    "        attr_ind (#Nx, #Ny, #Nz, int[]): index of cell -> indexes of points enclosed in the cell\n",
    "        spat_ind (#V, 3): point index -> index of enclosing cell, using this we don't need to pass the grid around\n",
    "    \"\"\"\n",
    "    origin_point = x[0,:]\n",
    "    DIFF = np.divide(x[-1,:] - origin_point, n) # assume the grid is ordered from lower corner to upper corner\n",
    "    spat_ind = np.empty(pts.shape)\n",
    "    attr_ind = np.empty(n, dtype=object)\n",
    "    for i in range(pts.shape[0]):\n",
    "        ind = np.floor((pts[i] - origin_point) / DIFF).astype(int)\n",
    "        spat_ind[i,:] = ind\n",
    "        if (attr_ind[ind[0]][ind[1]][ind[2]] == None):\n",
    "            attr_ind[ind[0]][ind[1]][ind[2]] = []\n",
    "        attr_ind[ind[0]][ind[1]][ind[2]].append(i)\n",
    "    return attr_ind, spat_ind\n",
    "    \n",
    "def add_points_to_attr_ind(points, pts, x, n, attr_ind):\n",
    "    \"\"\"\n",
    "    add a bunch of new points to a existing attr_ind\n",
    "    \"\"\"\n",
    "    origin_point = x[0,:]\n",
    "    DIFF = np.divide(x[-1,:] - origin_point, n) # assume the grid is ordered from lower corner to upper corner\n",
    "    inds = np.floor((points - origin_point) / DIFF).astype(int)\n",
    "    for i in range(inds.shape[0]):\n",
    "        if (attr_ind[inds[i,0]][inds[i,1]][inds[i,2]] == None):\n",
    "            attr_ind[inds[i,0]][inds[i,1]][inds[i,2]] = []\n",
    "        attr_ind[inds[i,0]][inds[i,1]][inds[i,2]].append(pts.shape[0]+i) # append the new point to the end\n",
    "    pts = np.vstack((pts, points))\n",
    "    return pts, attr_ind\n",
    "    \n",
    "def find_closest_point_acc(point, pts, x, n, attr_ind, eps):\n",
    "    \"\"\"\n",
    "    given the spatial index of all cloud points\n",
    "    for a given arbitary point\n",
    "    find the closest point within certain blocks\n",
    "    Args:\n",
    "        point (1, 3): query point\n",
    "        pts (#V, 3): point cloud\n",
    "        x (#N, 3), n: (#Nx, #Ny, #Nz): volumeric grid and its resolution\n",
    "        eps: the maximum distance in which the closest point is considered\n",
    "        attr_ind: precomputed attribute index of the grid\n",
    "    \"\"\"    \n",
    "    min_d = np.inf\n",
    "    min_i = -1\n",
    "    # to find the closest one. if not found, return -1\n",
    "    origin_point = x[0,:]\n",
    "    # assume the grid is ordered from lower corner to upper corner\n",
    "    DIFF = (x[-1,:] - origin_point) / n\n",
    "    # restricting exploration to certain neighboring r x r x r cells\n",
    "    r = np.ceil(eps/DIFF).astype(int)                        \n",
    "    # find the enclosing index, e.g. [n, m, p]\n",
    "    location = np.floor((point - origin_point) / DIFF).astype(int)\n",
    "    # test all points in neighbouring boxes, e.g. [n+-r, m+-r. p+-r], clipped search range within the grid\n",
    "    search_range = np.clip([location-r, location+r], 0, np.array(n)-1)\n",
    "    for i in range(search_range[0,0],search_range[1,0]):\n",
    "        for j in range(search_range[0,1],search_range[1,1]):\n",
    "            for k in range(search_range[0,2],search_range[1,2]):\n",
    "                eptis = attr_ind[i][j][k] # points contained in the searching voxel\n",
    "                if (eptis == None):\n",
    "                    continue\n",
    "                for epti in eptis:\n",
    "                    val = np.linalg.norm(point - pts[epti],2)\n",
    "                    if val < min_d:\n",
    "                        min_d = val\n",
    "                        min_i = epti\n",
    "    return min_i\n",
    "\n",
    "def closest_points_acc(point, pts, x, n, attr_ind, h):\n",
    "    \"\"\"\n",
    "    given the spatial index of all cloud points\n",
    "    for a given point on the grid, compute all cloud points close enough\n",
    "    Args:\n",
    "        point (1, 3): query point on the tet grid\n",
    "        pts (#V, 3): point cloud\n",
    "        x (#N, 3), n: (#Nx, #Ny, #Nz): volumeric grid and its resolution\n",
    "        attr_ind: precomputed attribute index of the grid\n",
    "    \"\"\"\n",
    "    min_is = []\n",
    "    origin_point = x[0,:]\n",
    "    # assume the grid is ordered from lower corner to upper corner, (1,3)\n",
    "    DIFF = (x[-1,:] - origin_point) / n\n",
    "    # restricting exploration to certain neighboring r x r x r cells, whose radius should include all possible points\n",
    "    r = np.ceil(h/DIFF).astype(int)                        \n",
    "    location = np.floor((point - origin_point) / DIFF).astype(int)\n",
    "    search_range = np.clip([location-r, location+r], 0, np.array(n)-1)\n",
    "    for i in range(search_range[0,0],search_range[1,0]):\n",
    "        for j in range(search_range[0,1],search_range[1,1]):\n",
    "            for k in range(search_range[0,2],search_range[1,2]):\n",
    "                eptis = attr_ind[i][j][k] # points contained in the searching voxel\n",
    "                if (eptis == None):\n",
    "                    continue\n",
    "                for epti in eptis:\n",
    "                    val = np.linalg.norm(point - pts[epti],2)\n",
    "                    if val < h:\n",
    "                        min_is.append(epti)\n",
    "    return np.array(min_is)"
   ]
  },
  {
   "cell_type": "code",
   "execution_count": 14,
   "metadata": {},
   "outputs": [],
   "source": [
    "# Now the grid need to be preconstructed before adding constraints\n",
    "def constraints_acc(points, normals, eps, x, res, attr_ind):\n",
    "    \"\"\"\n",
    "    add constraint points to point cloud\n",
    "    \"\"\"\n",
    "    fip = np.empty(points.shape[0])\n",
    "    fim = np.empty(points.shape[0])\n",
    "    pip = np.empty(points.shape)\n",
    "    pim = np.empty(points.shape)\n",
    "    for i in range(points.shape[0]):\n",
    "        pi = points[i];\n",
    "        epsp = eps\n",
    "        epsm = eps\n",
    "        pipi = pi + eps * normals[i]\n",
    "        while (find_closest_point_acc(pipi, points, x, res, attr_ind, 2*eps) != i):\n",
    "            epsp = epsp / 2\n",
    "            pipi = pi + epsp * normals[i]\n",
    "        fip[i] = epsp\n",
    "        pip[i,:] = pipi\n",
    "        \n",
    "        pimi = pi - eps * normals[i]\n",
    "        while (find_closest_point_acc(pimi, points, x, res, attr_ind, 2*eps) != i):\n",
    "            epsm = epsm / 2\n",
    "            pimi = pi - epsm * normals[i]\n",
    "        fim[i] = -epsm\n",
    "        pim[i,:] = pimi\n",
    "    \n",
    "    # concat the original points with the added constraint points\n",
    "    fi = np.zeros(points.shape[0])\n",
    "    f = np.concatenate((fi, fip, fim))\n",
    "    points, attr_ind = add_points_to_attr_ind(np.vstack((pip, pim)), points, x, res, attr_ind)\n",
    "    return points, f, attr_ind\n",
    "\n",
    "# accelerated MLS\n",
    "def MLS_acc(x, pt, fs, h, polyDegree, attr_ind):\n",
    "    \"\"\"\n",
    "    Moving least square algorithm accelerated\n",
    "    Args:\n",
    "        x (np.array(n**3)): bounding uniform tet grid \n",
    "        pt (np.ndarray((#V, 3))): constraint point cloud \n",
    "        fs (np.array(#V): corresponding implicit function values for point cloud\n",
    "        h (float): Wendland radius\n",
    "        polyDegree (0/1/2): polynomial degree\n",
    "    Returns:\n",
    "        np.ndarray((n**3, 3)): bounding uniform tet grid \n",
    "        T: tet faces\n",
    "        np.array(n**3): interpolated value computed at each tet grid point\n",
    "    \"\"\"\n",
    "    deg = {0:1, 1:4, 2:10}[polyDegree]\n",
    "    # B (#V x deg): global basis matrix of constraints 1,x,y,z,x^2,y^2,z^2,xy,xz,yz\n",
    "    B = np.vstack((np.ones(pt.shape[0]), \n",
    "                  pt[:,0], pt[:,1], pt[:,2], \n",
    "                  np.multiply(pt[:,0],pt[:,1]), np.multiply(pt[:,0],pt[:,2]), np.multiply(pt[:,1],pt[:,2]),\n",
    "                  np.power(pt[:,0],2), np.power(pt[:,1],2), np.power(pt[:,2],2) \n",
    "                  )).T[:, 0:deg]\n",
    "\n",
    "    # MLS on each tet grid point\n",
    "    values = np.empty(x.shape[0]);\n",
    "    for i in range(x.shape[0]):\n",
    "        xi = x[i]\n",
    "        # find adj nodal points falls within the radius that have wendland weight > 0, adj_pts << n**3\n",
    "        adjs = closest_points_acc(xi, pt, x, resolution, attr_ind, h)\n",
    "        if (adjs.shape[0] < np.ceil(deg)):\n",
    "            values[i] = 100000;\n",
    "        else:\n",
    "            # B local matrix of adj pts, (adj_pts x deg), where adj_pts >= deg\n",
    "            Bx = B[adjs,:]\n",
    "            # constraint vector evaluated at each interpolant, (adj_pts x 1)\n",
    "            dx = fs[adjs]\n",
    "            # diagonal weights for each adj pts, (adj_pts x adj_pts)\n",
    "            cis = pt[adjs]        \n",
    "            dist = np.linalg.norm(xi-cis, 2, axis=1)\n",
    "            W = (1-dist/h)**4 * (4*dist/h+1)\n",
    "            W = np.diag(W)\n",
    "            # Solving coeff vector (deg x 1) from the linear system: (B'WB)a = B'W dx\n",
    "            # B'WB a : (deg x deg)(deg x 1)\n",
    "            # B'W dx : (deg x adj_pts)(adj_pts x 1)\n",
    "            ax = np.linalg.solve(Bx.T@W@Bx, Bx.T@W@dx)\n",
    "            bx = np.array([1, xi[0], xi[1], xi[2], xi[0]*xi[1], xi[0]*xi[2], xi[1]*xi[2], xi[0]**2, xi[1]**2, xi[2]**2])[0:deg]\n",
    "            values[i] = bx.dot(ax)\n",
    "    return values"
   ]
  },
  {
   "cell_type": "code",
   "execution_count": 15,
   "metadata": {},
   "outputs": [
    {
     "name": "stdout",
     "output_type": "stream",
     "text": [
      "Time elapsed for accelerated adding constraints is:  0.01709723472595215  seconds\n",
      "Total accelerated time elapsed is:  8.588510990142822  seconds\n",
      "Time elapsed for unaccelerated adding constraints is:  0.006242036819458008  seconds\n",
      "Total Unaccelerated time elapsed is:  0.847771167755127  seconds\n"
     ]
    }
   ],
   "source": [
    "pi, v = igl.read_triangle_mesh(\"data/cat.off\")\n",
    "pi /= 10\n",
    "ni = igl.per_vertex_normals(pi, v)\n",
    "\n",
    "## global configs here\n",
    "wendlandRadius = 18\n",
    "polyDegree = 2 # 0, 1, 2\n",
    "resolution = (30,30,30)\n",
    "\n",
    "## Common settings for the grid\n",
    "box_max = np.max(pi, axis=0)\n",
    "box_min = np.min(pi, axis=0)\n",
    "box_diag = np.linalg.norm(box_max-box_min, 2)\n",
    "eps = 0.01 * box_diag\n",
    "x, T = tet_grid(resolution, box_min-0.05*box_diag, box_max+0.05*box_diag)\n",
    "\n",
    "### Using attr_ind to accelerate\n",
    "# Calculate the time elapsed\n",
    "start = time.time()\n",
    "attr_ind, _ = spatial_ind_at_res(pi, x, resolution)\n",
    "p1, f1, attr_ind = constraints_acc(pi, ni, eps, x, resolution, attr_ind)\n",
    "end = time.time()\n",
    "print(\"Time elapsed for accelerated adding constraints is: \", end - start, \" seconds\")\n",
    "values1 = MLS_acc(x, p1, f1, wendlandRadius, polyDegree, attr_ind)\n",
    "end = time.time()\n",
    "print(\"Total accelerated time elapsed is: \", end - start, \" seconds\")\n",
    "\n",
    "### Not using attr_ind to accelerate\n",
    "# Calculate the time elapsed\n",
    "start = time.time()\n",
    "p2, f2 = constraints(pi, ni, eps)\n",
    "end = time.time()\n",
    "print(\"Time elapsed for unaccelerated adding constraints is: \", end - start, \" seconds\")\n",
    "values2 = MLS(x, p2, f2, wendlandRadius, polyDegree)\n",
    "end = time.time()\n",
    "print(\"Total Unaccelerated time elapsed is: \", end - start, \" seconds\")"
   ]
  },
  {
   "cell_type": "code",
   "execution_count": 16,
   "metadata": {},
   "outputs": [
    {
     "data": {
      "application/vnd.jupyter.widget-view+json": {
       "model_id": "af0be2369a3041978900878400cb8e92",
       "version_major": 2,
       "version_minor": 0
      },
      "text/plain": [
       "Renderer(camera=PerspectiveCamera(children=(DirectionalLight(color='white', intensity=0.6, position=(5.0, -23.…"
      ]
     },
     "metadata": {},
     "output_type": "display_data"
    },
    {
     "name": "stdout",
     "output_type": "stream",
     "text": [
      "Plot saved to file Fig8_compare_interpl_acc.html.\n"
     ]
    },
    {
     "data": {
      "text/html": [
       "\n",
       "        <iframe\n",
       "            width=\"400\"\n",
       "            height=\"400\"\n",
       "            src=\"Fig8_compare_interpl_acc.html\"\n",
       "            frameborder=\"0\"\n",
       "            allowfullscreen\n",
       "            \n",
       "        ></iframe>\n",
       "        "
      ],
      "text/plain": [
       "<IPython.lib.display.IFrame at 0x118401690>"
      ]
     },
     "execution_count": 16,
     "metadata": {},
     "output_type": "execute_result"
    }
   ],
   "source": [
    "inds = np.zeros((resolution[0]*resolution[1]*resolution[2], 3))\n",
    "inds[values1 >= 0, :] = np.array([1,1,0])\n",
    "inds[values1 < 0, :] = np.array([1,0,0])\n",
    "plt8 = mp.plot(x, c=inds, shading={\"point_size\": 3,\"width\": 400, \"height\": 400})  \n",
    "plt8.save(\"Fig8_compare_interpl_acc.html\")\n",
    "IFrame(src='Fig8_compare_interpl_acc.html', width=400, height=400)"
   ]
  },
  {
   "cell_type": "code",
   "execution_count": 17,
   "metadata": {},
   "outputs": [
    {
     "data": {
      "application/vnd.jupyter.widget-view+json": {
       "model_id": "1f5f022f86d34aa69e7efd377f0f214f",
       "version_major": 2,
       "version_minor": 0
      },
      "text/plain": [
       "Renderer(camera=PerspectiveCamera(children=(DirectionalLight(color='white', intensity=0.6, position=(5.0, -23.…"
      ]
     },
     "metadata": {},
     "output_type": "display_data"
    },
    {
     "name": "stdout",
     "output_type": "stream",
     "text": [
      "Plot saved to file Fig9_compare_interpl.html.\n"
     ]
    },
    {
     "data": {
      "text/html": [
       "\n",
       "        <iframe\n",
       "            width=\"400\"\n",
       "            height=\"400\"\n",
       "            src=\"Fig9_compare_interpl.html\"\n",
       "            frameborder=\"0\"\n",
       "            allowfullscreen\n",
       "            \n",
       "        ></iframe>\n",
       "        "
      ],
      "text/plain": [
       "<IPython.lib.display.IFrame at 0x118465090>"
      ]
     },
     "execution_count": 17,
     "metadata": {},
     "output_type": "execute_result"
    }
   ],
   "source": [
    "inds2 = np.zeros((resolution[0]*resolution[1]*resolution[2], 3))\n",
    "inds2[values2 >= 0, :] = np.array([1,1,0])\n",
    "inds2[values2 < 0, :] = np.array([1,0,1])\n",
    "plt9 = mp.plot(x, c=inds2, shading={\"point_size\": 3,\"width\": 400, \"height\": 400}) \n",
    "plt9.save(\"Fig9_compare_interpl.html\")\n",
    "IFrame(src='Fig9_compare_interpl.html', width=400, height=400)"
   ]
  },
  {
   "cell_type": "code",
   "execution_count": 18,
   "metadata": {},
   "outputs": [
    {
     "data": {
      "application/vnd.jupyter.widget-view+json": {
       "model_id": "7c23407353f741c9947499ee36174d05",
       "version_major": 2,
       "version_minor": 0
      },
      "text/plain": [
       "Renderer(camera=PerspectiveCamera(children=(DirectionalLight(color='white', intensity=0.6, position=(5.0, -23.…"
      ]
     },
     "metadata": {},
     "output_type": "display_data"
    },
    {
     "name": "stdout",
     "output_type": "stream",
     "text": [
      "Plot saved to file Fig10_compare_const_acc.html.\n"
     ]
    },
    {
     "data": {
      "text/html": [
       "\n",
       "        <iframe\n",
       "            width=\"700\"\n",
       "            height=\"600\"\n",
       "            src=\"Fig10_compare_const_acc.html\"\n",
       "            frameborder=\"0\"\n",
       "            allowfullscreen\n",
       "            \n",
       "        ></iframe>\n",
       "        "
      ],
      "text/plain": [
       "<IPython.lib.display.IFrame at 0x1180b0810>"
      ]
     },
     "execution_count": 18,
     "metadata": {},
     "output_type": "execute_result"
    }
   ],
   "source": [
    "# plot and compare the constraint and interpolated value\n",
    "plt10 = mp.plot(p1[np.where(f1==0)], shading={\"point_size\": 4, \"point_color\": \"red\"})\n",
    "plt10.add_points(p1[np.where(f1>0)], shading={\"point_size\": 4, \"point_color\": \"blue\"}) # outside\n",
    "plt10.add_points(p1[np.where(f1<0)], shading={\"point_size\": 4, \"point_color\": \"green\"}) # inside\n",
    "plt10.save(\"Fig10_compare_const_acc.html\")\n",
    "IFrame(src='Fig10_compare_const_acc.html', width=700, height=600)"
   ]
  },
  {
   "cell_type": "code",
   "execution_count": 19,
   "metadata": {},
   "outputs": [
    {
     "data": {
      "application/vnd.jupyter.widget-view+json": {
       "model_id": "5e250b2792ab4bc68f388f801e15569a",
       "version_major": 2,
       "version_minor": 0
      },
      "text/plain": [
       "Renderer(camera=PerspectiveCamera(children=(DirectionalLight(color='white', intensity=0.6, position=(5.0, -23.…"
      ]
     },
     "metadata": {},
     "output_type": "display_data"
    },
    {
     "name": "stdout",
     "output_type": "stream",
     "text": [
      "Plot saved to file Fig11_compare_const.html.\n"
     ]
    },
    {
     "data": {
      "text/html": [
       "\n",
       "        <iframe\n",
       "            width=\"700\"\n",
       "            height=\"600\"\n",
       "            src=\"Fig11_compare_const.html\"\n",
       "            frameborder=\"0\"\n",
       "            allowfullscreen\n",
       "            \n",
       "        ></iframe>\n",
       "        "
      ],
      "text/plain": [
       "<IPython.lib.display.IFrame at 0x1180dc050>"
      ]
     },
     "execution_count": 19,
     "metadata": {},
     "output_type": "execute_result"
    }
   ],
   "source": [
    "plt11 = mp.plot(p2[np.where(f2==0)], shading={\"point_size\": 4, \"point_color\": \"red\"})\n",
    "plt11.add_points(p2[np.where(f2>0)], shading={\"point_size\": 4, \"point_color\": \"blue\"}) # outside\n",
    "plt11.add_points(p2[np.where(f2<0)], shading={\"point_size\": 4, \"point_color\": \"green\"}) # inside\n",
    "plt11.save(\"Fig11_compare_const.html\")\n",
    "IFrame(src='Fig11_compare_const.html', width=700, height=600)"
   ]
  },
  {
   "cell_type": "markdown",
   "metadata": {},
   "source": [
    "## Outputs\n",
    "\n",
    "### Accelarated:\n",
    "\n",
    "Time elapsed for accelerated adding constraints is:  0.016447782516479492  seconds\n",
    "\n",
    "Total accelerated time elapsed is:  8.462278127670288  seconds\n",
    "\n",
    "### Unaccelarated:\n",
    "\n",
    "Time elapsed for unaccelerated adding constraints is:  0.005535125732421875  seconds\n",
    "\n",
    "Total Unaccelerated time elapsed is:  0.8456680774688721  seconds\n",
    "\n",
    "### difference in results:\n",
    "\n",
    "## Reasoning:\n",
    "\n",
    "Sadly, the \"accelerated\" version is much more slower than the unaccelerated one. However, since the outcome are the same, there should be no bugs in the implementation of the spatial index. \n",
    "\n",
    "The reason why spatial-index fails to work is probably because Python for loop is super slow, comparing to Numpy apis which send the task to GPU and well optimized. However, it is good to have a spatial index implemented and optimized, so that the algorithm scale well as resolution / point cloud size increases."
   ]
  },
  {
   "cell_type": "markdown",
   "metadata": {},
   "source": [
    "# Using a non-axis-aligned grid\n",
    "\n",
    "Denote the rectangular point cloud matrix with SVD decomposition $M = U*S*V^T$ \n",
    "\n",
    "The idea is to find a linear operator, so that after the operation, the eigenvectors of the row space are canonical basis. \n",
    "\n",
    "Observe that $R = V$ does the work:\n",
    "\n",
    "$$\n",
    "M*R = (U*S*V^T)*R \n",
    "= U*S*(V^T*V)\n",
    "= U*S*I_{3x3}\n",
    "$$\n"
   ]
  },
  {
   "cell_type": "code",
   "execution_count": 20,
   "metadata": {},
   "outputs": [],
   "source": [
    "pi2, v2 = igl.read_triangle_mesh(\"data/luigi.off\")\n",
    "\n",
    "# move the point cloud to the center of the origin\n",
    "center = np.mean(pi2, axis=0)\n",
    "pi2 = pi2 - center # (#V x 3)\n",
    "\n",
    "# svd the matrix\n",
    "S = pi2\n",
    "_,_,Vt = np.linalg.svd(S)\n",
    "\n",
    "# apply inv rotation to straighten the point cloud, V^-1 = V^T \n",
    "# the idea is to make eigenvector in row space to be canonical basis: M*Vt^T = (U*S*Vt)*Vt^T = U*S*I_{3x3}\n",
    "pi2 = np.dot(pi2, Vt.T)\n",
    "\n",
    "# need to recompute the per-vertex normal here\n",
    "ni2 = igl.per_vertex_normals(pi2, v2)"
   ]
  },
  {
   "cell_type": "code",
   "execution_count": 21,
   "metadata": {},
   "outputs": [
    {
     "data": {
      "application/vnd.jupyter.widget-view+json": {
       "model_id": "657ae03cc9954adc99087c9a359f3c77",
       "version_major": 2,
       "version_minor": 0
      },
      "text/plain": [
       "Renderer(camera=PerspectiveCamera(children=(DirectionalLight(color='white', intensity=0.6, position=(6.6777229…"
      ]
     },
     "metadata": {},
     "output_type": "display_data"
    },
    {
     "name": "stdout",
     "output_type": "stream",
     "text": [
      "Plot saved to file Fig12_axis_rotation.html.\n"
     ]
    },
    {
     "data": {
      "text/html": [
       "\n",
       "        <iframe\n",
       "            width=\"800\"\n",
       "            height=\"800\"\n",
       "            src=\"Fig12_axis_rotation.html\"\n",
       "            frameborder=\"0\"\n",
       "            allowfullscreen\n",
       "            \n",
       "        ></iframe>\n",
       "        "
      ],
      "text/plain": [
       "<IPython.lib.display.IFrame at 0x1184cc150>"
      ]
     },
     "execution_count": 21,
     "metadata": {},
     "output_type": "execute_result"
    }
   ],
   "source": [
    "# add constraints\n",
    "box_max = np.max(pi2, axis=0)\n",
    "box_min = np.min(pi2, axis=0)\n",
    "box_diag = np.linalg.norm(box_max-box_min, 2) # approx 147\n",
    "eps = 0.01 * box_diag\n",
    "resolution = (40, 40, 40)\n",
    "# construct the axis-aligned grid that contains the straightened point cloud\n",
    "x_r, T = tet_grid(resolution, box_min - 0.03 * box_diag, box_max + 0.03 * box_diag)\n",
    "\n",
    "## Check the alignment indeed works\n",
    "plt12 = mp.plot(x_r, shading={\"point_size\": 2, \"point_color\": \"green\", \"width\": 800, \"height\": 800})\n",
    "plt12.add_points(pi2, shading={\"point_size\": 4, \"point_color\": \"red\"})\n",
    "plt12.save(\"Fig12_axis_rotation.html\")\n",
    "IFrame(src='Fig12_axis_rotation.html', width=800, height=800)"
   ]
  },
  {
   "cell_type": "markdown",
   "metadata": {},
   "source": [
    "# Extracting the surface\n",
    "\n",
    "More results are already shown in previous sections. Here I provide a plot for luigi surface reconstruction at 30x30x30, wendlandRadius = 12, polyDegree = 0\n",
    "\n",
    "<img src=\"img/luigi_30.png\" alt=\"drawing\" width=\"200\"/>"
   ]
  },
  {
   "cell_type": "code",
   "execution_count": 22,
   "metadata": {},
   "outputs": [
    {
     "name": "stdout",
     "output_type": "stream",
     "text": [
      "Non-Accelerated time elapsed for adding constraints is:  0.1659221649169922  seconds\n",
      "Total non-accelerated time elapsed is:  8.232270240783691  seconds\n"
     ]
    },
    {
     "data": {
      "application/vnd.jupyter.widget-view+json": {
       "model_id": "45033d95747a4720a4e450ef032fbc26",
       "version_major": 2,
       "version_minor": 0
      },
      "text/plain": [
       "Renderer(camera=PerspectiveCamera(children=(DirectionalLight(color='white', intensity=0.6, position=(6.6777229…"
      ]
     },
     "metadata": {},
     "output_type": "display_data"
    },
    {
     "name": "stdout",
     "output_type": "stream",
     "text": [
      "Plot saved to file Fig13_luigi_interpl.html.\n"
     ]
    },
    {
     "data": {
      "text/html": [
       "\n",
       "        <iframe\n",
       "            width=\"800\"\n",
       "            height=\"800\"\n",
       "            src=\"Fig13_luigi_interpl.html\"\n",
       "            frameborder=\"0\"\n",
       "            allowfullscreen\n",
       "            \n",
       "        ></iframe>\n",
       "        "
      ],
      "text/plain": [
       "<IPython.lib.display.IFrame at 0x1184ba050>"
      ]
     },
     "execution_count": 22,
     "metadata": {},
     "output_type": "execute_result"
    }
   ],
   "source": [
    "# global configs here, need some tuning here\n",
    "wendlandRadius = 12\n",
    "polyDegree = 0 # 0, 1, 2\n",
    "\n",
    "## Unaccelarated version\n",
    "start = time.time()\n",
    "p3, f3 = constraints(pi2, -ni2, eps) # here need to flip the sign of normals, idk why, probably due to the aligning\n",
    "end = time.time()\n",
    "print(\"Non-Accelerated time elapsed for adding constraints is: \", end - start, \" seconds\")\n",
    "fvs3 = MLS(x_r, p3, f3, wendlandRadius, polyDegree)\n",
    "end = time.time()\n",
    "print(\"Total non-accelerated time elapsed is: \", end - start, \" seconds\")\n",
    "\n",
    "# plot interpolated function\n",
    "inds = np.zeros((resolution[0]*resolution[1]*resolution[2], 3))\n",
    "inds[fvs3 >= 0, :] = np.array([0,1,0])\n",
    "inds[fvs3 < 0, :] = np.array([1,0,0])\n",
    "plt13 = mp.plot(x_r, c=inds, shading={\"point_size\": 3,\"width\": 800, \"height\": 800})\n",
    "plt13.save(\"Fig13_luigi_interpl.html\")\n",
    "IFrame(src='Fig13_luigi_interpl.html', width=800, height=800)"
   ]
  },
  {
   "cell_type": "code",
   "execution_count": 23,
   "metadata": {},
   "outputs": [
    {
     "data": {
      "application/vnd.jupyter.widget-view+json": {
       "model_id": "9b4f04f1595c4d8190cf9efd4b6ab735",
       "version_major": 2,
       "version_minor": 0
      },
      "text/plain": [
       "Renderer(camera=PerspectiveCamera(children=(DirectionalLight(color='white', intensity=0.6, position=(6.1739711…"
      ]
     },
     "metadata": {},
     "output_type": "display_data"
    },
    {
     "name": "stdout",
     "output_type": "stream",
     "text": [
      "Plot saved to file Fig14_luigi_surface.html.\n"
     ]
    },
    {
     "data": {
      "text/html": [
       "\n",
       "        <iframe\n",
       "            width=\"800\"\n",
       "            height=\"800\"\n",
       "            src=\"Fig14_luigi_surface.html\"\n",
       "            frameborder=\"0\"\n",
       "            allowfullscreen\n",
       "            \n",
       "        ></iframe>\n",
       "        "
      ],
      "text/plain": [
       "<IPython.lib.display.IFrame at 0x1184dce10>"
      ]
     },
     "execution_count": 23,
     "metadata": {},
     "output_type": "execute_result"
    }
   ],
   "source": [
    "# Marcing tet to extract zero-level surface\n",
    "sv3, sf3, _, _ = igl.marching_tets(x_r, T, fvs3, 0)\n",
    "filtered_sf3 = filter_largest_comp(sf3);\n",
    "plt14 = mp.plot(sv3, filtered_sf3, shading={\"wireframe\": False})\n",
    "plt14.save(\"Fig14_luigi_surface.html\")\n",
    "IFrame(src='Fig14_luigi_surface.html', width=800, height=800)"
   ]
  },
  {
   "cell_type": "markdown",
   "metadata": {},
   "source": [
    "# (Optional) Interpolating and Approximating Implicit Surfaces from Polygon Soup \n",
    "\n",
    "the paper uses the normal to define a linear function for each point cloud point: \n",
    "**the signed distance to the tangent plane** at the point.\n",
    "\n",
    "Then the values of these linear functions are interpolated by MLS. \n",
    "Implement Section 3.3 of the paper and \n",
    "append to your report a description of the method and \n",
    "how it compares to the original point-value-based approach. \n",
    "\n",
    "## Quotes\n",
    "\n",
    "\"forcing the interpolating function to behave like a prescribed function (in the neighborhood of a polygon), \n",
    "as opposed to a prescribed constant value\n",
    "...\n",
    "\n",
    "...instead of using the moving least-squares method to blend between *constant values* associated with each polygon (or point), \n",
    "we blend between *functions* associated with them.\n",
    "\"\n",
    "\n",
    "## Methods\n",
    "\n",
    "$\\phi_k$ is a constraint value associated to the polygon/point (q_k). \n",
    "\n",
    "The linear system to solve:\n",
    "\n",
    "$$\n",
    "\\mathbf{w}(\\mathbf{x}, \\mathbf{p}) * c = W(\\mathbf{x}, \\mathbf{p}) * \\mathbf{s}(\\mathbf{x})\n",
    "$$\n",
    "\n",
    "$W * s(\\mathbf{x})$: (N x N)(N x 1) = (N x 1),\n",
    "\n",
    "$\\mathbf{w} * c$: (Nx1)(1x1) = (N x 1)\n",
    "\n",
    "\n",
    "Instead of adding constriant points with non-negative constriant values, we only use the zero constraint at point clouds $p_i$, \n",
    "\n",
    "For each $x_i$ on the grid, find all points $p_i$ close enough; These points form a \"polygon\" (on 2d this is obvious). For that polygon we have a linear system: \n",
    "\n",
    "$$\n",
    "\\begin{align}\n",
    "S_k(x) &= \\phi_k +(x−q_k)^T \\hat{n_k} \\\\\n",
    "    &= \\psi_{0k}+\\psi_{x_k}x+\\psi_{y_k}y+\\psi_{z_k}z \\\\\n",
    "    &= \n",
    "    \\left[\\begin{array}1\n",
    "    1 & x_1 & y_1 & z_1 \\\\\n",
    "    1 & x_2 & y_2 & z_2 \\\\\n",
    "    \\vdots & \\vdots & \\vdots & \\vdots \\\\\n",
    "    \\end{array}\\right]\n",
    "    \\psi\n",
    "    \\\\\n",
    "\\end{align}\n",
    "$$\n",
    "\n",
    "where $\\phi_k$ is constraint so it is just 0; $q_k$ is an arbitrary point on the polygon/point, and $\\psi$ is the resulting polynomial coefficient vector."
   ]
  },
  {
   "cell_type": "code",
   "execution_count": 24,
   "metadata": {},
   "outputs": [
    {
     "data": {
      "application/vnd.jupyter.widget-view+json": {
       "model_id": "6e89cd3bc1404e51873c52cbb3fcf265",
       "version_major": 2,
       "version_minor": 0
      },
      "text/plain": [
       "Renderer(camera=PerspectiveCamera(children=(DirectionalLight(color='white', intensity=0.6, position=(6.6777229…"
      ]
     },
     "metadata": {},
     "output_type": "display_data"
    },
    {
     "name": "stdout",
     "output_type": "stream",
     "text": [
      "Plot saved to file Fig15_luigi_poly.html.\n"
     ]
    },
    {
     "data": {
      "text/html": [
       "\n",
       "        <iframe\n",
       "            width=\"800\"\n",
       "            height=\"800\"\n",
       "            src=\"Fig15_luigi_poly.html\"\n",
       "            frameborder=\"0\"\n",
       "            allowfullscreen\n",
       "            \n",
       "        ></iframe>\n",
       "        "
      ],
      "text/plain": [
       "<IPython.lib.display.IFrame at 0x1184e9990>"
      ]
     },
     "execution_count": 24,
     "metadata": {},
     "output_type": "execute_result"
    }
   ],
   "source": [
    "def MLS_poly(x, pt, ni, h, polyDegree):\n",
    "    \"\"\"\n",
    "    Moving least square algorithm\n",
    " \n",
    "    Args:\n",
    "        x (np.array(n**3)): bounding uniform tet grid \n",
    "        pt (np.ndarray((#V, 3))): constraint point cloud \n",
    "        ni (np.array(#V): corresponding nodal normal\n",
    "        h (float): Wendland radius\n",
    "        polyDegree (0/1/2): polynomial degree\n",
    "\n",
    "        attr_ind, spat_ind: acceleration\n",
    "    Returns:\n",
    "        np.ndarray((n**3, 3)): bounding uniform tet grid \n",
    "        T: tet faces\n",
    "        np.array(n**3): interpolated value computed at each tet grid point\n",
    "    \"\"\"\n",
    "    deg = {0:1, 1:4, 2:10}[polyDegree]\n",
    "    B = np.vstack((np.ones(pt.shape[0]), \n",
    "                  pt[:,0], pt[:,1], pt[:,2], \n",
    "                  np.multiply(pt[:,0],pt[:,1]), np.multiply(pt[:,0],pt[:,2]), np.multiply(pt[:,1],pt[:,2]),\n",
    "                  np.power(pt[:,0],2), np.power(pt[:,1],2), np.power(pt[:,2],2) \n",
    "                  )).T[:, 0:deg]\n",
    "    # MLS on each tet grid point\n",
    "    values = np.empty(x.shape[0]);\n",
    "    for i in range(x.shape[0]):\n",
    "        xi = x[i]\n",
    "        # find adj nodal points falls within the radius that have wendland weight > 0, adj_pts << n**3\n",
    "        adjs = closest_points(xi, pt, h)\n",
    "        # if not enough points, assign a large positive value to the grid point\n",
    "        if (adjs.shape[0] < np.ceil(deg / 2)):\n",
    "            values[i] = 100000;\n",
    "        else:\n",
    "            # Bx: local basis matrix, (adj_pts,deg)\n",
    "            Bx = B[adjs,:]\n",
    "            \n",
    "            # pis: adj points (adj_pts,3)\n",
    "            pis = pt[adjs]\n",
    "            \n",
    "            # nis: normal vectors of adj pts (adj_pts,3) - a bunch of row vectors\n",
    "            nis = ni[adjs]\n",
    "            \n",
    "            # dx: constraint vec eval at each interpolant, (adj_pts,1)\n",
    "            dx = np.diag((pis-xi)@(nis).T) # (adj_pts,3)(adj_pts,3)'=(adj_pts,adj_pts), we only use the dot products on diagonal (a_i^T bi_)\n",
    "            \n",
    "            # weight matrix W(xi, p), (adj_pts,adj_pts)\n",
    "            dist = np.linalg.norm(xi-pis, 2, axis=1)\n",
    "            W = (1-dist/h)**4 * (4*dist/h+1)\n",
    "            W = np.diag(W)\n",
    "            \n",
    "            # Solving coeff vector (deg,1) from the linear system: (B'WB)a = B'W dx\n",
    "            # B'WB a : (deg,deg)(deg,1); # B'W dx : (deg,adj_pts)(adj_pts,1)\n",
    "            ax = np.linalg.solve(Bx.T@W@Bx, Bx.T@W@dx)\n",
    "\n",
    "            # compute interpolant value\n",
    "            bx = np.array([1, xi[0], xi[1], xi[2], xi[0]*xi[1], xi[0]*xi[2], xi[1]*xi[2], xi[0]**2, xi[1]**2, xi[2]**2])[0:deg]\n",
    "            values[i] = bx.dot(ax)\n",
    "    return values\n",
    "\n",
    "box_max = np.max(pi2, axis=0)\n",
    "box_min = np.min(pi2, axis=0)\n",
    "box_diag = np.linalg.norm(box_max-box_min, 2) # approx 147\n",
    "eps = 0.01 * box_diag\n",
    "\n",
    "# Plot of the grid with nodes colored according to their implicit function values.\n",
    "wendlandRadius = 0.05 * box_diag\n",
    "polyDegree = 0 # 0, 1, 2\n",
    "\n",
    "fvs = MLS_poly(x_r, pi2, ni2, wendlandRadius, polyDegree)\n",
    "\n",
    "inds = np.zeros((resolution[0]*resolution[1]*resolution[2], 3))\n",
    "inds[fvs >= 0, :] = np.array([0,1,0])\n",
    "inds[fvs < 0, :] = np.array([1,0,0])\n",
    "plt15 = mp.plot(x_r, c=inds, shading={\"point_size\": 3,\"width\": 800, \"height\": 800})\n",
    "plt15.save(\"Fig15_luigi_poly.html\")\n",
    "IFrame(src='Fig15_luigi_poly.html', width=800, height=800)"
   ]
  },
  {
   "cell_type": "markdown",
   "metadata": {},
   "source": [
    "## Estimate a normal for results obtained with single dataset.\n",
    "\n",
    "Per-surface normal is computed and attached to the barycenter of each triangle.\n",
    "\n",
    "<img src=\"img/luigi_poly_normal_lines.png\" alt=\"drawing\" width=\"200\"/>"
   ]
  },
  {
   "cell_type": "code",
   "execution_count": 25,
   "metadata": {},
   "outputs": [
    {
     "data": {
      "application/vnd.jupyter.widget-view+json": {
       "model_id": "24371436e123445da8c7bdbbdec12a33",
       "version_major": 2,
       "version_minor": 0
      },
      "text/plain": [
       "Renderer(camera=PerspectiveCamera(children=(DirectionalLight(color='white', intensity=0.6, position=(6.3415794…"
      ]
     },
     "metadata": {},
     "output_type": "display_data"
    },
    {
     "name": "stdout",
     "output_type": "stream",
     "text": [
      "Plot saved to file Fig16_luigi_poly_surface.html.\n"
     ]
    },
    {
     "data": {
      "text/html": [
       "\n",
       "        <iframe\n",
       "            width=\"800\"\n",
       "            height=\"800\"\n",
       "            src=\"Fig16_luigi_poly_surface.html\"\n",
       "            frameborder=\"0\"\n",
       "            allowfullscreen\n",
       "            \n",
       "        ></iframe>\n",
       "        "
      ],
      "text/plain": [
       "<IPython.lib.display.IFrame at 0x118524390>"
      ]
     },
     "execution_count": 25,
     "metadata": {},
     "output_type": "execute_result"
    }
   ],
   "source": [
    "# Marcing tet to extract zero-level surface\n",
    "sv2, sf2, _, _ = igl.marching_tets(x_r, T, fvs, 0)\n",
    "plt16 = mp.plot(sv2, sf2, shading={\"wireframe\": False})\n",
    "sn2 = igl.per_face_normals(sv2, sf2, np.ones(3)*1e-4)\n",
    "sf2_b = igl.barycenter(sv2, sf2)\n",
    "plt16.add_lines(sf2_b, sf2_b+sn2)\n",
    "\n",
    "plt16.save(\"Fig16_luigi_poly_surface.html\")\n",
    "IFrame(src='Fig16_luigi_poly_surface.html', width=800, height=800)"
   ]
  },
  {
   "cell_type": "markdown",
   "metadata": {},
   "source": [
    "# (Optional) Screened Poisson Surface Reconstruction "
   ]
  },
  {
   "cell_type": "markdown",
   "metadata": {},
   "source": [
    "(inward pointing) normal field of the boundary of a solid can be interpreted as the gradient of the solid’s indicator function\n",
    "\n",
    "Find indicator function $\\chi$ whose gradient best approximates \n",
    "\n",
    "$$\n",
    "\\min_{\\chi}\\int \\|\\nabla \\chi - \\mathbf{v}(\\mathbf x)\\|^2dx \\\\\n",
    "$$\n",
    "\n",
    "Solving the linear system:\n",
    "\n",
    "$$\n",
    "\\Delta \\chi = \\nabla \\cdot \\mathbf{v}\n",
    "$$\n",
    "\n",
    "The discrete Laplacian for 3D:\n",
    "\n",
    "$$\n",
    "\\left[\n",
    "\\begin{array}\n",
    "1 9 & -1 & 0 & \\cdots & -1 & 0 & \\cdots & -1 & 0 & \\cdots \\\\\n",
    " -1 & -9 & -1 & \\cdots & 0 & -1 & \\cdots & 0 & -1 & \\cdots \\\\\n",
    "\\end{array}\n",
    "\\right]\n",
    "$$"
   ]
  },
  {
   "cell_type": "markdown",
   "metadata": {},
   "source": [
    "## Results from the meshlab\n",
    "\n",
    "**Note: need to zoom-in / zoom-out to visualize the result from meshlab, for some reason meshplot cannot render the full mesh from meshlab except from certain view angles**\n",
    "\n",
    "The left figure is generated by meshlab; the right figure is generated by vanilla MLS with polyDegree=2. \n",
    "\n",
    "To make resonable comparison, we choose the resolution so that the MLS result and Screened Poisson Surface Reconstruction result are close (~4000-5000).\n",
    "\n",
    "### 1.The Screened Poisson Reconstruction performs much better on the boundary\n",
    "\n",
    "With boundary condition (Dirichlet) properly set, the boundary of SPR result is smooth. In comparison since the cat model does not have points on the bottom, the MLS algorithm lack information so does not produce meaningful result.\n",
    "\n",
    "### 2.The SPR provide a smoother result\n",
    "\n",
    "Even with smaller number of surfaces, the SPR algorithm generates smoother \"normal changes\" on the surface, resulting in a much smoother surface.\n",
    "\n",
    "### 3. The SPR does not suffer from Runge's phenomenon \n",
    "\n",
    "On the surface of MLS construct, there are artifacts and bumps. Also, as we can observe from previous implicit functions, noisy points outside the surface exists, this is because we are using uniform interpolation and Runge's phenomenon. \n",
    "\n",
    "In comparison, SPR does not suffer from this problem.\n",
    "\n",
    "\n",
    "### Poisson Reconstruction Result:\n",
    "\n",
    "<img src=\"img/Poisson_result.png\" alt=\"drawing\" width=\"200\"/>\n"
   ]
  },
  {
   "cell_type": "code",
   "execution_count": 26,
   "metadata": {},
   "outputs": [
    {
     "data": {
      "application/vnd.jupyter.widget-view+json": {
       "model_id": "270901582cd64c339d80beb20b8f209a",
       "version_major": 2,
       "version_minor": 0
      },
      "text/plain": [
       "Renderer(camera=PerspectiveCamera(children=(DirectionalLight(color='white', intensity=0.6, position=(49.714805…"
      ]
     },
     "metadata": {},
     "output_type": "display_data"
    },
    {
     "name": "stdout",
     "output_type": "stream",
     "text": [
      "Plot saved to file Fig17_poisson_compare.html.\n"
     ]
    },
    {
     "data": {
      "text/html": [
       "\n",
       "        <iframe\n",
       "            width=\"1200\"\n",
       "            height=\"800\"\n",
       "            src=\"Fig17_poisson_compare.html\"\n",
       "            frameborder=\"0\"\n",
       "            allowfullscreen\n",
       "            \n",
       "        ></iframe>\n",
       "        "
      ],
      "text/plain": [
       "<IPython.lib.display.IFrame at 0x118433150>"
      ]
     },
     "execution_count": 26,
     "metadata": {},
     "output_type": "execute_result"
    }
   ],
   "source": [
    "# import pymeshlab as ms\n",
    "# ms.generate_surface_reconstruction_screened_poisson()\n",
    "\n",
    "pi_c, v_c = igl.read_triangle_mesh(\"data/cat_meshlab.off\")\n",
    "plt17 = mp.plot(pi_c, v_c)\n",
    "plt17.save(\"Fig17_poisson_compare.html\")\n",
    "IFrame(src='Fig17_poisson_compare.html', width=1200, height=800)"
   ]
  }
 ],
 "metadata": {
  "kernelspec": {
   "display_name": "Python 3 (ipykernel)",
   "language": "python",
   "name": "python3"
  },
  "language_info": {
   "codemirror_mode": {
    "name": "ipython",
    "version": 3
   },
   "file_extension": ".py",
   "mimetype": "text/x-python",
   "name": "python",
   "nbconvert_exporter": "python",
   "pygments_lexer": "ipython3",
   "version": "3.11.8"
  }
 },
 "nbformat": 4,
 "nbformat_minor": 4
}
