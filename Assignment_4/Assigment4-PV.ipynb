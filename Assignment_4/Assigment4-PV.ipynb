{
 "cells": [
  {
   "cell_type": "markdown",
   "metadata": {},
   "source": [
    "# Assigment 4"
   ]
  },
  {
   "cell_type": "code",
   "execution_count": 1,
   "metadata": {},
   "outputs": [],
   "source": [
    "import math\n",
    "import numpy as np\n",
    "import scipy.sparse as sp\n",
    "\n",
    "import igl\n",
    "import meshplot as mp\n",
    "\n",
    "from math import sqrt"
   ]
  },
  {
   "cell_type": "code",
   "execution_count": null,
   "metadata": {},
   "outputs": [],
   "source": [
    "def myQ(V, F, TT, hard_id, hard_value):\n",
    "    assert(hard_id[0] > 0)\n",
    "    assert(hard_id.shape[0] == hard_value.shape[0])\n",
    "    T1, T2, _ = igl.local_basis(V, F)\n",
    "    # Arrays for the entries of the matrix Q\n",
    "    data = []\n",
    "    ii = []\n",
    "    jj = []\n",
    "    Q = Q = sp.coo_matrix((data, (ii, jj)), shape=(F.shape[0], F.shape[0])).asformat(\"lil\")\n",
    "    b = np.zeros(F.shape[0], dtype=complex)\n",
    "    for f in range(F.shape[0]):\n",
    "        for ei in range(3): # Loop over the edges\n",
    "            # Look up the opposite face\n",
    "            g = TT[f, ei]\n",
    "            # If it is a boundary edge, it does not contribute to the energy\n",
    "            # or avoid to count every edge twice\n",
    "            if g == -1 or f > g:\n",
    "                continue  \n",
    "            # Compute the shared edge\n",
    "            e = V[F[f, (ei+1)%3], :] - V[F[f, ei], :]\n",
    "            # ef, eg are the shared edge vector expressed in each local basis of f and g\n",
    "            vef = np.array([np.dot(e, T1[f, :]), np.dot(e, T2[f, :])])\n",
    "            vef /= np.linalg.norm(vef)\n",
    "            ef = (vef[0] + vef[1]*1j)\n",
    "            veg = np.array([np.dot(e, T1[g, :]), np.dot(e, T2[g, :])])\n",
    "            veg /= np.linalg.norm(veg)\n",
    "            eg = (veg[0] + veg[1]*1j)\n",
    "            # System Assembly - smoothness\n",
    "            Q[f, f] = Q[f, f] + ef * ef.conjugate()\n",
    "            Q[f, g] = Q[f, g] - ef * eg.conjugate()\n",
    "            Q[g, f] = Q[g, f] - eg * ef.conjugate()\n",
    "            Q[g, g] = Q[g, g] + eg * eg.conjugate()\n",
    "    for ci in range(hard_id.shape[0]):\n",
    "        f = hard_id[ci]\n",
    "        v = hard_value[ci, :]\n",
    "        # Project onto the local frame\n",
    "        c = np.dot(v, T1[f, :]) + np.dot(v, T2[f, :])*1j\n",
    "        for i in range(F.shape[0]):\n",
    "            b[i] = b[i] - Q[i,f] * c\n",
    "            Q[i,f] = 0\n",
    "    Q = Q.asformat(\"csr\")\n",
    "    u = sp.linalg.spsolve(Q, b)\n",
    "    R = T1 * u.real[:,None] + T2 * u.imag[:,None]\n",
    "    return R"
   ]
  },
  {
   "cell_type": "markdown",
   "metadata": {},
   "source": [
    "# Q1. Tangent vector fields for scalar field design\n",
    "\n",
    "Specifies the field vectors at a subset of the mesh triangles (the constraints) and those constraints are interpolated smoothly throughout the surface to define a field.\n",
    "\n",
    "## * Creating vector constraints - Done\n",
    "\n",
    "## Interpolating the constraints"
   ]
  },
  {
   "cell_type": "code",
   "execution_count": 2,
   "metadata": {},
   "outputs": [],
   "source": [
    "v, f = igl.read_triangle_mesh(\"data/irr4-cyl2.off\")\n",
    "# tt: (#F x #3), i,j is the id of the triangle adj to the j edge of triangle i\n",
    "tt, _ = igl.triangle_triangle_adjacency(f)\n",
    "\n",
    "c = np.loadtxt(\"data/irr4-cyl2.constraints\")\n",
    "cf = c[:, 0].astype(np.int64)\n",
    "c = c[:, 1:]"
   ]
  },
  {
   "cell_type": "code",
   "execution_count": 3,
   "metadata": {},
   "outputs": [],
   "source": [
    "# find root of a Complex Polynomial {c0}+{c1=1}*t+{c2=1}*t^2+...+{cn-1=1}*t^{n-1}+t^n\n",
    "def find_root(c0,n):\n",
    "    # M: companion matrix\n",
    "    M = np.zeros((n,n),dtype=complex)\n",
    "    for i in range(1,n):\n",
    "        M[i,i-1] = 1.0\n",
    "    M[0,n-1] = c0\n",
    "    w, v = np.linalg.eig(M)\n",
    "    return w[0]"
   ]
  },
  {
   "cell_type": "code",
   "execution_count": 4,
   "metadata": {},
   "outputs": [],
   "source": [
    "# this given function implements the N-Directional Field\n",
    "def align_field(V, F, TT, soft_id, soft_value, llambda, n):\n",
    "    assert(soft_id[0] > 0)\n",
    "    assert(soft_id.shape[0] == soft_value.shape[0])\n",
    "    assert(n>0)\n",
    "    \n",
    "    # Edges\n",
    "    e1 = V[F[:, 1], :] - V[F[:, 0], :]\n",
    "    e2 = V[F[:, 2], :] - V[F[:, 0], :]\n",
    "\n",
    "    # Compute the local reference systems for each face, T1, T2\n",
    "    T1 = e1 / np.linalg.norm(e1, axis=1)[:,None]\n",
    "        \n",
    "    T2 =  np.cross(T1, np.cross(T1, e2))\n",
    "    T2 /= np.linalg.norm(T2, axis=1)[:,None]\n",
    "       \n",
    "    # Arrays for the entries of the matrix\n",
    "    data = []\n",
    "    ii = []\n",
    "    jj = []\n",
    "    \n",
    "    index = 0\n",
    "    for f in range(F.shape[0]):\n",
    "        for ei in range(3): # Loop over the edges\n",
    "            \n",
    "            # Look up the opposite face\n",
    "            g = TT[f, ei]\n",
    "            \n",
    "            # If it is a boundary edge, it does not contribute to the energy\n",
    "            # or avoid to count every edge twice\n",
    "            if g == -1 or f > g:\n",
    "                continue\n",
    "                \n",
    "            # Compute the complex representation of the common edge\n",
    "            e  = V[F[f, (ei+1)%3], :] - V[F[f, ei], :]\n",
    "            \n",
    "            vef = np.array([np.dot(e, T1[f, :]), np.dot(e, T2[f, :])])\n",
    "            vef /= np.linalg.norm(vef)\n",
    "            ef = (vef[0] + vef[1]*1j).conjugate()\n",
    "            ef = np.power(ef,n)\n",
    "            \n",
    "            veg = np.array([np.dot(e, T1[g, :]), np.dot(e, T2[g, :])])\n",
    "            veg /= np.linalg.norm(veg)\n",
    "            eg = (veg[0] + veg[1]*1j).conjugate()\n",
    "            eg = np.power(eg,n)\n",
    "            \n",
    "            # System Assembly - N-PolyVectors\n",
    "            # Add the term conj(f)^n*ui - conj(g)^n*uj to the energy matrix\n",
    "            data.append(ef);  ii.append(index); jj.append(f)\n",
    "            data.append(-eg); ii.append(index); jj.append(g)\n",
    "\n",
    "            index += 1\n",
    "            \n",
    "    \n",
    "    sqrtl = sqrt(llambda)\n",
    "    \n",
    "    # Convert the constraints into the complex polynomial coefficients and add them as soft constraints\n",
    "    \n",
    "    # Rhs of the system\n",
    "    b = np.zeros(index + soft_id.shape[0], dtype=complex)\n",
    "    \n",
    "    # System Assembly - Soft Constraints\n",
    "    for ci in range(soft_id.shape[0]):\n",
    "        f = soft_id[ci]\n",
    "        v = soft_value[ci, :]\n",
    "        \n",
    "        # Project on the local frame\n",
    "        c = np.dot(v, T1[f, :]) + np.dot(v, T2[f, :])*1j\n",
    "        c = np.power(c,n)\n",
    "        \n",
    "        data.append(sqrtl); ii.append(index); jj.append(f)\n",
    "        b[index] = c * sqrtl\n",
    "        \n",
    "        index += 1\n",
    "    \n",
    "    assert(b.shape[0] == index)\n",
    "    \n",
    "    # Solve the linear system A^*Ax = A^*b\n",
    "    A = sp.coo_matrix((data, (ii, jj)), shape=(index, F.shape[0])).asformat(\"csr\")\n",
    "    u = sp.linalg.spsolve(A.H @ A, A.H @ b)\n",
    "    \n",
    "    R = np.zeros_like(T1)\n",
    "    \n",
    "    for j in range(u.shape[0]):\n",
    "        u[j] = find_root(u[j],n)\n",
    "    \n",
    "    R = T1 * u.real[:,None] + T2 * u.imag[:,None]\n",
    "\n",
    "    return R"
   ]
  },
  {
   "cell_type": "code",
   "execution_count": 5,
   "metadata": {},
   "outputs": [],
   "source": [
    "def plot_mesh_field(V, F, R, constrain_faces,n):\n",
    "    # Highlight in red the constrained faces\n",
    "    col = np.ones_like(f)\n",
    "    col[constrain_faces, 1:] = 0\n",
    "    \n",
    "    # Scaling of the representative vectors\n",
    "    avg = igl.avg_edge_length(V, F)/2\n",
    "\n",
    "    # Edges\n",
    "    e1 = V[F[:, 1], :] - V[F[:, 0], :]\n",
    "    e2 = V[F[:, 2], :] - V[F[:, 0], :]\n",
    "\n",
    "    # Compute the local reference systems for each face, T1, T2\n",
    "    T1 = e1 / np.linalg.norm(e1, axis=1)[:,None]\n",
    "        \n",
    "    T2 =  np.cross(T1, np.cross(T1, e2))\n",
    "    T2 /= np.linalg.norm(T2, axis=1)[:,None]\n",
    "\n",
    "    # Plot from face barycenters\n",
    "    B = igl.barycenter(V, F)\n",
    "\n",
    "    p = mp.plot(V, F, c=col)\n",
    "    \n",
    "    # Convert R to an angle\n",
    "    angles = np.arctan2(np.sum(R*T2,axis=1),np.sum(R*T1,axis=1))\n",
    "    \n",
    "    for i in range(n):\n",
    "        R2 = np.cos(angles+i*2*math.pi/n)[:,None] * T1 + np.sin(angles+i*2*math.pi/n)[:,None] * T2\n",
    "        p.add_lines(B, B + R2 * avg)\n",
    "    \n",
    "    return p"
   ]
  },
  {
   "cell_type": "code",
   "execution_count": 10,
   "metadata": {},
   "outputs": [
    {
     "data": {
      "application/vnd.jupyter.widget-view+json": {
       "model_id": "bd15a6516bbe463ca1b4f73d39cb5f76",
       "version_major": 2,
       "version_minor": 0
      },
      "text/plain": [
       "Renderer(camera=PerspectiveCamera(children=(DirectionalLight(color='white', intensity=0.6, position=(0.0, 0.0,…"
      ]
     },
     "metadata": {},
     "output_type": "display_data"
    }
   ],
   "source": [
    "R = align_field(v, f, tt, cf, c, 1e6, 4)\n",
    "p = plot_mesh_field(v, f, R, cf, 4)\n"
   ]
  },
  {
   "cell_type": "markdown",
   "metadata": {},
   "source": [
    "# Q2: Reconstructing a scalar field from a vector field\n",
    "\n",
    "$$\n",
    "\\min s^TKs + s^Tb + c = \\min A |g - u|^2 = \\min A g^2 + A u^2 - 2 A g u\n",
    "$$\n",
    "\n",
    "equivalent to solving $s$ from\n",
    "\n",
    "$$\n",
    "2Ks + b = 0\n",
    "$$"
   ]
  },
  {
   "cell_type": "code",
   "execution_count": 121,
   "metadata": {},
   "outputs": [
    {
     "name": "stdout",
     "output_type": "stream",
     "text": [
      "(756,)\n",
      "(2268, 411)\n",
      "(411, 3)\n",
      "(756, 3)\n"
     ]
    }
   ],
   "source": [
    "\n",
    "def reconstruct_scalar(V,F):\n",
    "    # 2*Area (#F x 3)\n",
    "    d_area = igl.doublearea(V, F)\n",
    "    # gradient of phi of each triag t (3#F x #V)\n",
    "    G = igl.grad(V, F, uniform = True)\n",
    "\n",
    "    # s (#V x 1) vertex values\n",
    "    data = []\n",
    "    ii = []\n",
    "    jj = []\n",
    "    # for f in range(F.shape[0]):\n",
    "    #     for ei in range(3): # Loop over the edges\n",
    "\n",
    "print(igl.doublearea(v, f).shape)\n",
    "G = igl.grad(v, f)\n",
    "print(G.shape)\n",
    "\n",
    "print(v.shape)\n",
    "print(f.shape)"
   ]
  },
  {
   "cell_type": "markdown",
   "metadata": {},
   "source": [
    "# Q3: Harmonic and LSCM Parameterizations\n"
   ]
  },
  {
   "cell_type": "code",
   "execution_count": 68,
   "metadata": {},
   "outputs": [
    {
     "data": {
      "text/plain": [
       "array([  0, 358,  58, 187,  18, 183,  57, 180,   5, 198,  52, 203,  15,\n",
       "       207,  43, 210,   1, 211,  51, 135,  16, 132,  37, 124,   7, 121,\n",
       "        33, 115,  13, 116,  28, 229,   2, 230,  25, 218,  24, 217,  26,\n",
       "       224,   8, 222,  79, 247,  11, 273,  83, 275,   3, 392,  84, 279,\n",
       "        20, 259,  70, 319,   6, 316,  62, 296,  19, 292,  59, 359])"
      ]
     },
     "execution_count": 68,
     "metadata": {},
     "output_type": "execute_result"
    }
   ],
   "source": [
    "# you will first map the mesh boundary to a unit circle in the UV plane centered at the origin.\n",
    "# The boundary U and V coordinates are then \"harmonically interpolated\" \n",
    "# into the interior by solving the Laplace equation with Dirichlet boundary conditions \n",
    "# (setting the Laplacian of U equal to zero at each interior vertex, \n",
    "# then doing the same for V). \n",
    "#vThis involves two separate linear system solves (each with the same system matrix).\n",
    "\n",
    "\n",
    "\n",
    "# harmonic weights\n",
    "# igl.harmonic(v, f, b, bc, k)\n",
    "\n",
    "def func(V, F):\n",
    "    # compute largest ordered boundary loops in the given mesh, \n",
    "    # F (#F x 3) => bnd (#b x 1)\n",
    "    bnd = igl.boundary_loop(F)\n",
    "    # Map the vertices, 2D positions on the unit circle for the vertices in bnd, \n",
    "    # F (#F x dim=3), bnd (#b x 1) => bnd_uv (#b x 2) 2D pos on the unit circle for bnd vertices\n",
    "    bnd_uv = map_vertices_to_circle(V, bnd)\n",
    "    harmonic_w = igl.harmonic(V,F,bnd,bc,k=1)\n",
    "\n",
    "    \n",
    "    # Least-squares conformal map, \n",
    "    # bnd (#b x 1) boundary indices, bc (#b x 2) list of boundary values\n",
    "    uv_lscm = igl.lscm(V,F,bnd,bc)\n",
    "\n",
    "    \n",
    "# p = mp.subplot(v, f, uv=uv, s=[1, 2, 0])\n",
    "# mp.subplot(uv, f, uv=uv, shading={\"wireframe\": True}, data=p, s=[1, 2, 1])"
   ]
  },
  {
   "cell_type": "markdown",
   "metadata": {},
   "source": [
    "# 4. Editing a parameterization with vector fields"
   ]
  }
 ],
 "metadata": {
  "kernelspec": {
   "display_name": "Python 3 (ipykernel)",
   "language": "python",
   "name": "python3"
  },
  "language_info": {
   "codemirror_mode": {
    "name": "ipython",
    "version": 3
   },
   "file_extension": ".py",
   "mimetype": "text/x-python",
   "name": "python",
   "nbconvert_exporter": "python",
   "pygments_lexer": "ipython3",
   "version": "3.11.8"
  }
 },
 "nbformat": 4,
 "nbformat_minor": 4
}
