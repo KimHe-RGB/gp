{
 "cells": [
  {
   "cell_type": "markdown",
   "metadata": {},
   "source": [
    "# Assigment 4\n",
    "\n",
    "## Xujin He, xh1131"
   ]
  },
  {
   "cell_type": "code",
   "execution_count": 1,
   "metadata": {},
   "outputs": [],
   "source": [
    "import math\n",
    "import numpy as np\n",
    "import scipy.sparse as sp\n",
    "\n",
    "import igl\n",
    "import meshplot as mp\n",
    "\n",
    "from math import sqrt\n",
    "from IPython.display import IFrame"
   ]
  },
  {
   "cell_type": "code",
   "execution_count": 2,
   "metadata": {},
   "outputs": [],
   "source": [
    "v, f = igl.read_triangle_mesh(\"data/irr4-cyl2.off\")\n",
    "tt, _ = igl.triangle_triangle_adjacency(f)\n",
    "\n",
    "c = np.loadtxt(\"data/irr4-cyl2.constraints\")\n",
    "cf = c[:, 0].astype(np.int64)\n",
    "c = c[:, 1:]"
   ]
  },
  {
   "cell_type": "code",
   "execution_count": 3,
   "metadata": {},
   "outputs": [],
   "source": [
    "def align_field(V, F, TT, soft_id, soft_value, llambda):\n",
    "    assert(soft_id[0] > 0)\n",
    "    assert(soft_id.shape[0] == soft_value.shape[0])\n",
    "\n",
    "    # Edges\n",
    "    e1 = V[F[:, 1], :] - V[F[:, 0], :]\n",
    "    e2 = V[F[:, 2], :] - V[F[:, 0], :]\n",
    "\n",
    "    # Compute the local reference systems for each face, T1, T2\n",
    "    T1 = e1 / np.linalg.norm(e1, axis=1)[:,None]\n",
    "        \n",
    "    T2 =  np.cross(T1, np.cross(T1, e2))\n",
    "    T2 /= np.linalg.norm(T2, axis=1)[:,None]\n",
    "  \n",
    "    # Arrays for the entries of the matrix\n",
    "    data = []\n",
    "    ii = []\n",
    "    jj = []\n",
    "    \n",
    "    index = 0\n",
    "    for f in range(F.shape[0]):\n",
    "        for ei in range(3): # Loop over the edges\n",
    "            \n",
    "            # Look up the opposite face\n",
    "            g = TT[f, ei]\n",
    "            \n",
    "            # If it is a boundary edge, it does not contribute to the energy\n",
    "            # or avoid to count every edge twice\n",
    "            if g == -1 or f > g:\n",
    "                continue\n",
    "                \n",
    "            # Compute the complex representation of the common edge\n",
    "            e  = V[F[f, (ei+1)%3], :] - V[F[f, ei], :]\n",
    "            \n",
    "            vef = np.array([np.dot(e, T1[f, :]), np.dot(e, T2[f, :])])\n",
    "            vef /= np.linalg.norm(vef)\n",
    "            ef = (vef[0] + vef[1]*1j).conjugate()\n",
    "            \n",
    "            veg = np.array([np.dot(e, T1[g, :]), np.dot(e, T2[g, :])])\n",
    "            veg /= np.linalg.norm(veg)\n",
    "            eg = (veg[0] + veg[1]*1j).conjugate()\n",
    "            \n",
    "            # Add the term conj(f)*ui - conj(g)*uj to the energy matrix\n",
    "            data.append(ef);  ii.append(index); jj.append(f)\n",
    "            data.append(-eg); ii.append(index); jj.append(g)\n",
    "\n",
    "            index += 1\n",
    "            \n",
    "    \n",
    "    sqrtl = sqrt(llambda)\n",
    "    \n",
    "    # Convert the constraints into the complex polynomial coefficients and add them as soft constraints\n",
    "    \n",
    "    # Rhs of the system\n",
    "    b = np.zeros(index + soft_id.shape[0], dtype=complex)\n",
    "    \n",
    "    for ci in range(soft_id.shape[0]):\n",
    "        f = soft_id[ci]\n",
    "        v = soft_value[ci, :]\n",
    "        \n",
    "        # Project on the local frame\n",
    "        c = np.dot(v, T1[f, :]) + np.dot(v, T2[f, :])*1j\n",
    "        \n",
    "        data.append(sqrtl); ii.append(index); jj.append(f)\n",
    "        b[index] = c * sqrtl\n",
    "        \n",
    "        index += 1\n",
    "    \n",
    "    assert(b.shape[0] == index)\n",
    "    \n",
    "    \n",
    "    # Solve the linear system\n",
    "    A = sp.coo_matrix((data, (ii, jj)), shape=(index, F.shape[0])).asformat(\"csr\")\n",
    "    u = sp.linalg.spsolve(A.H @ A, A.H @ b)\n",
    "\n",
    "    R = T1 * u.real[:,None] + T2 * u.imag[:,None]\n",
    "\n",
    "    return R"
   ]
  },
  {
   "cell_type": "code",
   "execution_count": 4,
   "metadata": {},
   "outputs": [],
   "source": [
    "def plot_mesh_field(V, F, R, constrain_faces):\n",
    "    # Highlight in red the constrained faces\n",
    "    col = np.ones_like(f)\n",
    "    col[constrain_faces, 1:] = 0\n",
    "    \n",
    "    # Scaling of the representative vectors\n",
    "    avg = igl.avg_edge_length(V, F)/2\n",
    "\n",
    "    #Plot from face barycenters\n",
    "    B = igl.barycenter(V, F)\n",
    "\n",
    "    p = mp.plot(V, F, c=col)\n",
    "    p.add_lines(B, B + R * avg)\n",
    "    \n",
    "    return p"
   ]
  },
  {
   "cell_type": "markdown",
   "metadata": {},
   "source": [
    "# Q1. Tangent vector fields for scalar field design"
   ]
  },
  {
   "cell_type": "code",
   "execution_count": 5,
   "metadata": {},
   "outputs": [],
   "source": [
    "def delete_columns_csr(matrix, cols_to_del):\n",
    "    keep_index = np.logical_not(np.in1d(np.arange(matrix.shape[1]), cols_to_del))\n",
    "    keep_index = np.where(keep_index)[0]\n",
    "    return matrix[:, keep_index]\n",
    "def delete_rows_csr(matrix, rows_to_del):\n",
    "    keep_index = np.logical_not(np.in1d(np.arange(matrix.shape[0]), rows_to_del))\n",
    "    keep_index = np.where(keep_index)[0]\n",
    "    return matrix[keep_index, :]\n",
    "\n",
    "def align_field_hard(V, F, TT, hard_id, hard_value):\n",
    "    assert(hard_id[0] > 0)\n",
    "    assert(hard_id.shape[0] == hard_value.shape[0])\n",
    "    # compute perface local orth basis and normals, this is equivalent to the code:\n",
    "    '''\n",
    "    # Edges\n",
    "    e1 = V[F[:, 1], :] - V[F[:, 0], :]\n",
    "    e2 = V[F[:, 2], :] - V[F[:, 0], :]\n",
    "    # Compute the local reference systems for each face, T1, T2\n",
    "    T1 = e1 / np.linalg.norm(e1, axis=1)[:,None] \n",
    "    T2 =  np.cross(T1, np.cross(T1, e2))\n",
    "    T2 /= np.linalg.norm(T2, axis=1)[:,None]\n",
    "    '''\n",
    "    T1, T2, _ = igl.local_basis(V, F)\n",
    "    # Arrays for the entries of the matrix Q\n",
    "    data = []\n",
    "    ii = []\n",
    "    jj = []\n",
    "    index = 0\n",
    "\n",
    "    bdata = []\n",
    "    hard_id_list = hard_id.tolist()\n",
    "    # Add per-edge constraint\n",
    "    for f in range(F.shape[0]):\n",
    "        for ei in range(3):\n",
    "            # Look up the opposite face\n",
    "            g = TT[f, ei]\n",
    "            # If it is a boundary edge, it does not contribute to the energy; or avoid counting every edge twice\n",
    "            if g == -1 or f > g:\n",
    "                continue \n",
    "            # Compute the shared edge\n",
    "            e = V[F[f, (ei+1)%3], :] - V[F[f, ei], :]\n",
    "            # ef, eg are the shared edge vector expressed in each local basis of f and g\n",
    "            vef = np.array([np.dot(e, T1[f, :]), np.dot(e, T2[f, :])])\n",
    "            vef /= np.linalg.norm(vef)\n",
    "            ef = (vef[0] + vef[1]*1j).conjugate()\n",
    "            veg = np.array([np.dot(e, T1[g, :]), np.dot(e, T2[g, :])])\n",
    "            veg /= np.linalg.norm(veg)\n",
    "            eg = (veg[0] + veg[1]*1j).conjugate()\n",
    "            # System Assembly - smoothness\n",
    "            # both are free variables - add the constraint as ususal\n",
    "            if (f not in hard_id_list and g not in hard_id_list):\n",
    "                data.append(ef);  ii.append(index); jj.append(f)\n",
    "                data.append(-eg); ii.append(index); jj.append(g)\n",
    "                bdata.append(0); \n",
    "                index += 1\n",
    "            # one of them is a free variable, then preserve the free variable in the system, subtract the fixed constraint from the rhs\n",
    "            elif (f not in hard_id_list) and (g in hard_id_list):\n",
    "                data.append(ef);  ii.append(index); jj.append(f)\n",
    "                v = hard_value[hard_id_list.index(g), :]\n",
    "                c = np.dot(v, T1[g, :]) + np.dot(v, T2[g, :])*1j\n",
    "                bdata.append(c*eg);\n",
    "                index += 1\n",
    "            elif (f in hard_id_list and g not in hard_id_list):\n",
    "                data.append(-eg); ii.append(index); jj.append(g)\n",
    "                v = hard_value[hard_id_list.index(f), :]\n",
    "                c = np.dot(v, T1[f, :]) + np.dot(v, T2[f, :])*1j\n",
    "                bdata.append(-c*ef);\n",
    "                index += 1\n",
    "            # both are fixed variables - just skip it\n",
    "                \n",
    "    Q = sp.coo_matrix((data, (ii, jj)), shape=(index, F.shape[0])).asformat(\"lil\")\n",
    "    b = np.array(bdata)\n",
    "    Q = delete_columns_csr(Q, hard_id) # need to remove zero columns from Q - where the fixed \n",
    "    Q = Q.asformat(\"csr\")\n",
    "    # solve the linear system to get uf and ug\n",
    "    u = sp.linalg.spsolve(Q.H @ Q, Q.H @ b)\n",
    "    # now insert back the removed hard constraints\n",
    "    insert_c = []\n",
    "    hard_id_sorted = np.sort(hard_id);\n",
    "    hard_value_sorted = hard_value[hard_id.argsort()]\n",
    "    for ci in range(hard_id_sorted.shape[0]):\n",
    "        f = hard_id_sorted[ci]\n",
    "        v = hard_value_sorted[ci, :]\n",
    "        c = np.dot(v, T1[f, :]) + np.dot(v, T2[f, :])*1j\n",
    "        insert_c.append(c)\n",
    "    u = np.insert(u, hard_id_sorted-np.arange(hard_id_sorted.shape[0]), insert_c) \n",
    "    # field vector uf is expressed as a complex number composed from xf, yf, ug ... from xg, yg\n",
    "    # so we map from complex field back to R^2 \n",
    "    R = T1 * u.real[:,None] + T2 * u.imag[:,None]\n",
    "    return R"
   ]
  },
  {
   "cell_type": "code",
   "execution_count": 6,
   "metadata": {},
   "outputs": [
    {
     "data": {
      "application/vnd.jupyter.widget-view+json": {
       "model_id": "58cb18f9f68040e9bf98da259c66de4c",
       "version_major": 2,
       "version_minor": 0
      },
      "text/plain": [
       "Renderer(camera=PerspectiveCamera(children=(DirectionalLight(color='white', intensity=0.6, position=(0.0, 0.0,…"
      ]
     },
     "metadata": {},
     "output_type": "display_data"
    },
    {
     "name": "stdout",
     "output_type": "stream",
     "text": [
      "Plot saved to file q1.html.\n"
     ]
    },
    {
     "data": {
      "text/html": [
       "\n",
       "        <iframe\n",
       "            width=\"700\"\n",
       "            height=\"600\"\n",
       "            src=\"q1.html\"\n",
       "            frameborder=\"0\"\n",
       "            allowfullscreen\n",
       "            \n",
       "        ></iframe>\n",
       "        "
      ],
      "text/plain": [
       "<IPython.lib.display.IFrame at 0x11fb5d910>"
      ]
     },
     "execution_count": 6,
     "metadata": {},
     "output_type": "execute_result"
    }
   ],
   "source": [
    "R = align_field_hard(v, f, tt, cf, c)\n",
    "col = np.ones_like(f)\n",
    "col[cf, 1:] = 0\n",
    "B = igl.barycenter(v, f)\n",
    "avg = igl.avg_edge_length(v, f)/2\n",
    "p1 = mp.plot(v, f, c=col)\n",
    "p1.add_lines(B, B+R*avg, shading={'line_color':'magenta'})\n",
    "Bc = igl.barycenter(v, f[cf])\n",
    "p1.add_lines(Bc, Bc+c*avg, shading={'line_color':'blue'})\n",
    "\n",
    "p1.save(\"q1.html\")\n",
    "IFrame(src='q1.html', width=700, height=600)"
   ]
  },
  {
   "cell_type": "markdown",
   "metadata": {},
   "source": [
    "## Interactive Part \n",
    "\n",
    "**This part is not working on HTML since ipywidgets does not support Iframe, use jupyter notebook instead**\n",
    "\n",
    "As the mesh plot above indicates, the results from the Hard Constraint (magenta) are very close the the Soft Constraint result (black), but obvious difference can be observed around the constraint triangles. In order to make obvious comparison, we can pick a small (like $\\lambda=1$) that reduces the penalty factor for soft constraints. \n",
    "\n",
    "As we gradually increase $\\lambda$ to infinity, the Soft Constraint field (black) seems converging to Hard Constraint field (magenta) and match the constraint values (cyan) at the constraint faces, which is the expected behavior - when we increase penalty, the Soft Constraint becomes \"stricter\".\n"
   ]
  },
  {
   "cell_type": "code",
   "execution_count": 7,
   "metadata": {},
   "outputs": [
    {
     "data": {
      "application/vnd.jupyter.widget-view+json": {
       "model_id": "712f7288126f49d3ab2adc649149a535",
       "version_major": 2,
       "version_minor": 0
      },
      "text/plain": [
       "interactive(children=(IntSlider(value=3, description='lpower', max=6), Output()), _dom_classes=('widget-intera…"
      ]
     },
     "metadata": {},
     "output_type": "display_data"
    },
    {
     "data": {
      "text/plain": [
       "<function __main__.plot_interactive_field(V, F, TT, cons_id, cons_value, lpower)>"
      ]
     },
     "execution_count": 7,
     "metadata": {},
     "output_type": "execute_result"
    }
   ],
   "source": [
    "from ipywidgets import interact, interactive, fixed, interact_manual\n",
    "import ipywidgets as widgets\n",
    "\n",
    "def plot_interactive_field(V,F,TT,cons_id,cons_value,lpower):\n",
    "    print(\"lambda =\", 10**lpower)\n",
    "    R = align_field(V,F,TT,cons_id,cons_value,10**lpower)\n",
    "    p1 = plot_mesh_field(V, F, R, cons_id)\n",
    "\n",
    "    # we now interpolate with HARD constraint instead, which will only give \n",
    "    R2 = align_field_hard(V, F, TT, cons_id, cons_value)\n",
    "    B = igl.barycenter(V, F)\n",
    "    avg = igl.avg_edge_length(V, F)/2\n",
    "    p1.add_lines(B, B+R2*avg, shading={'line_color':'magenta'})\n",
    "\n",
    "    Bc = igl.barycenter(V, F[cons_id])\n",
    "    p1.add_lines(Bc, Bc+c*avg, shading={'line_color':'cyan'})\n",
    "\n",
    "    # print out the hard constraint field\n",
    "    print(np.vstack([R2, c]))\n",
    "\n",
    "interact(plot_interactive_field, V=fixed(v), F=fixed(f), TT=fixed(tt), cons_id=fixed(cf), cons_value=fixed(c), lpower=(0,6,1))"
   ]
  },
  {
   "cell_type": "markdown",
   "metadata": {},
   "source": [
    "# Q2: Reconstructing a scalar field from a vector field\n",
    "\n",
    "$$\n",
    "g = \\left[\\begin{array}{c}\n",
    "f_x|_1 \\\\\n",
    "\\vdots \\\\\n",
    "f_x|_{F} \\\\\n",
    "f_y|_1 \\\\\n",
    "\\vdots \\\\\n",
    "f_y|_{F} \\\\\n",
    "f_z|_1 \\\\\n",
    "\\vdots \\\\\n",
    "f_z|_{F} \\\\\n",
    "\\end{array}\\right] =\n",
    "\\left[\\begin{array}{c}\n",
    "- G_1 -  \\\\\n",
    "\\vdots \\\\\n",
    "- G_F -  \\\\\n",
    "- G_{F+1} -  \\\\\n",
    "\\vdots \\\\\n",
    "- G_{2F} -  \\\\\n",
    "- G_{2F+1} -  \\\\\n",
    "- \\vdots \\\\\n",
    "- G_{3F} -  \\\\\n",
    "\\end{array}\n",
    "\\right]\n",
    "\\left[\\begin{array}{c}\n",
    "s_1 \\\\\n",
    "\\vdots \\\\\n",
    "s_V\n",
    "\\end{array}\n",
    "\\right] = Gs\n",
    "$$\n",
    "\n",
    "$$\n",
    "\\begin{aligned}\n",
    "g_t =\n",
    "\\left[\\begin{array}{c}\n",
    "f_x|_t \\\\\n",
    "f_y|_t \\\\\n",
    "f_z|_t \\\\\n",
    "\\end{array}\n",
    "\\right]\n",
    "=\n",
    "\\left[\\begin{array}{c}\n",
    "- G_t -  \\\\\n",
    "- G_{F+t} -  \\\\\n",
    "- G_{2F+t} -  \\\\\n",
    "\\end{array}\n",
    "\\right]\n",
    "\\left[\\begin{array}{c}\n",
    "s_1 \\\\\n",
    "\\vdots \\\\\n",
    "s_V\n",
    "\\end{array}\n",
    "\\right]\n",
    "= M_t s\n",
    "\\end{aligned}\n",
    "$$\n",
    "\n",
    "$$\n",
    "\\begin{aligned}\n",
    "u_t = \\left[\\begin{array}{c}\n",
    "u_{tx}\\\\ \n",
    "u_{ty}\\\\ \n",
    "u_{tz}\n",
    "\\end{array}\\right]\n",
    "\\end{aligned}\n",
    "$$"
   ]
  },
  {
   "cell_type": "markdown",
   "metadata": {},
   "source": [
    "## Dealing with the least squares:\n",
    "\n",
    "$$\n",
    "\\begin{aligned}\n",
    "&\\min_g \\sum_{\\text{face }t} A_t \\|g_t - u_t\\|^2 \\\\\n",
    "=& \\min_g \\sum_{\\text{face }t} A_t (g_t - u_t)^T(g_t - u_t) \\\\\n",
    "=& \\min_g \\sum_{\\text{face }t} A_t (g_t^Tg_t - u_t^Tg_t - g_t^Tu_t + u_t^Tu_t) \\\\\n",
    "=& \\min_s \\sum_{\\text{face }t} A_t (s^TG_t^TG_ts - 2G_t^Tu_ts + u_t^Tu_t)\n",
    "\\end{aligned}\n",
    "$$\n",
    "\n",
    "Sent gradient wrt $s$ to 0:\n",
    "\n",
    "$$\n",
    "\\begin{aligned}\n",
    "2A_tG_t^TG_ts - 2A_tG_t^Tu_t &= 0 \\\\\n",
    "A_tG_t^TG_ts = A_tG_t^Tu_t\n",
    "\\end{aligned}\n",
    "$$\n",
    "\n",
    "<!-- \\left[\\begin{array}{c}\n",
    "- G_t^T G_t -  \\\\\n",
    "- G_{F+t}^T G_{F+t} -  \\\\\n",
    "- G_{2F+t}^T G_{2F+t} -  \\\\\n",
    "\\end{array}\n",
    "\\right] -->\n",
    "<!-- $$\n",
    "\\begin{aligned}\n",
    "A_t\n",
    "G_t^TG_t\n",
    "\\left[\\begin{array}{c}\n",
    "s_1 \\\\\n",
    "\\vdots \\\\\n",
    "s_V\n",
    "\\end{array}\n",
    "\\right]\n",
    "= \n",
    "A_t\\left[\\begin{array}{c}\n",
    "| & | & | \\\\\n",
    "G_t & G_{F+t} & G_{2F+t} \\\\\n",
    "| & | & |\n",
    "\\end{array}\n",
    "\\right]\n",
    "\\left[\\begin{array}{c}\n",
    "u_{tx}\\\\ \n",
    "u_{ty}\\\\ \n",
    "u_{tz}\n",
    "\\end{array}\\right]\n",
    "\\end{aligned}\n",
    "$$ -->"
   ]
  },
  {
   "cell_type": "markdown",
   "metadata": {},
   "source": [
    "\n",
    "Since all rows of $G$ are decoupled, we can combine $G_t$'s to get $K = G^TAG, b=G^TAu$\n",
    "\n",
    "$$\n",
    "\\begin{aligned}\n",
    "G^TAGs = G^TAu\n",
    "\\end{aligned}\n",
    "$$\n",
    "\n",
    "Where $A$ is diagonal matrix of triangles area, repeated 3 times to match $G_t, G_{F+t}, G_{2F+t}$\n",
    "\n",
    "<!-- $$\n",
    "\\left[\\begin{array}{c}\n",
    "- G_1^T A_1 G_1 -  \\\\\n",
    "\\vdots \\\\\n",
    "- G_F^T A_F G_F -  \\\\\n",
    "- G_{F+1}^T A_1 G_{F+1} -  \\\\\n",
    "\\vdots \\\\\n",
    "- G_{2F}^T A_F G_{2F} -  \\\\\n",
    "- G_{2F+1}^T A_1 G_{2F+1} -  \\\\\n",
    "\\vdots \\\\\n",
    "- G_{3F}^T A_F G_{3F} -  \\\\\n",
    "\\end{array}\n",
    "\\right]\n",
    "\\left[\\begin{array}{c}\n",
    "s_1 \\\\\n",
    "\\vdots \\\\\n",
    "s_V\n",
    "\\end{array}\n",
    "\\right]\n",
    "=\n",
    "\\text{diag}\\left(\n",
    "\\begin{array}{c}\n",
    "A_1 \\\\\n",
    "\\vdots \\\\\n",
    "A_F \\\\\n",
    "A_1 \\\\\n",
    "\\vdots \\\\\n",
    "A_F \\\\\n",
    "A_1 \\\\\n",
    "\\vdots \\\\\n",
    "A_F \\\\\n",
    "\\end{array}\n",
    "\\right)\n",
    "\\left[\\begin{array}{c}\n",
    "| & & | & | & & | & | & & |\\\\\n",
    "G_1 & \\cdots & G_F & G_{F+1} & \\cdots & G_{2F} & G_{2F+1} & \\cdots & G_{3F}\\\\\n",
    "| & & | & | & & | & | & & |\n",
    "\\end{array}\n",
    "\\right]\n",
    "\\left[\\begin{array}{c}\n",
    "u_{1x} \\\\\n",
    "\\vdots \\\\\n",
    "u_{Fx} \\\\\n",
    "u_{1y} \\\\\n",
    "\\vdots \\\\\n",
    "u_{Fy} \\\\\n",
    "u_{1z} \\\\\n",
    "\\vdots \\\\\n",
    "u_{Fz} \\\\\n",
    "\\end{array}\n",
    "\\right]\n",
    "$$ -->"
   ]
  },
  {
   "cell_type": "markdown",
   "metadata": {},
   "source": [
    "## Poisson reconstruction error\n",
    "\n",
    "The guiding vector field is plotted in red lines, and the computed gradient field is plotted in black lines\n",
    "\n",
    "The poisson reconstruction error is computed per-face as:\n",
    "\n",
    "$$\\varepsilon_t = \\|g_t - u_t\\|_2 = \\|Gs - u_t\\|_2$$\n",
    "\n",
    "And this is plotted as a color map on vertices.\n",
    "\n",
    "### Note on Poisson reconstruction error\n",
    "\n",
    "Another valid Poisson reconstruction error can be defined as a single value:\n",
    "\n",
    "$$\n",
    "\\|G^TAs - Au\\| \n",
    "$$\n",
    "\n",
    "This is basically norm of the flattened gradient field - I computed this value as well"
   ]
  },
  {
   "cell_type": "code",
   "execution_count": 8,
   "metadata": {},
   "outputs": [],
   "source": [
    "import numpy.matlib\n",
    "\n",
    "# stack the flattened gradient vactor (3#F x 1) to a perface gradient (#F x 3)\n",
    "def stack_gradient(G,s):\n",
    "    gs = G@s # 3#F x 1\n",
    "    Fn = G.shape[0] // 3;\n",
    "    gt = np.zeros((Fn,3))\n",
    "    for i in range(Fn):\n",
    "        gt[i,0] = gs[i]\n",
    "        gt[i,1] = gs[i + Fn]\n",
    "        gt[i,2] = gs[i + 2*Fn]\n",
    "    return gt\n",
    "    \n",
    "def reconstruct_scalar(V,F,u,print_poisson_err=False):\n",
    "    # gradient of phi of each triag t (3#F x #V), sparse\n",
    "    G = igl.grad(V, F)\n",
    "    # extend vector of 2*Area (#F x 1) to sparse matrix, repeated 3 times\n",
    "    d_area = igl.doublearea(V, F)\n",
    "    A = sp.diags(np.matlib.repmat(d_area/2, 1, 3)[0])\n",
    "    # flatten u into [u_x; u_y; u_z] three parts\n",
    "    uu = np.hstack((u[:,0], u[:,1], u[:,2]))\n",
    "    \n",
    "    K = G.T @ A @ G # (#V x 3#F) x (3#V x 3#F) x (3#F x #V) = (#V x #V)\n",
    "    b = G.T @ A @ uu # (#V x 3#F) x (3#F x 3#F) x (3#F x 1)\n",
    "\n",
    "    # setting one side dirichlet bc: s_0 = 0\n",
    "    Kd = K[1:,1:]\n",
    "    bd = b[1:]\n",
    "    \n",
    "    # check singularity of K\n",
    "    # print(numpy.linalg.cond(K.todense()))\n",
    "    # print(numpy.linalg.cond(Kd.todense()))\n",
    "    \n",
    "    # solve linsys\n",
    "    sd = sp.linalg.spsolve(Kd, bd)\n",
    "    s = np.concatenate([np.array([0]),sd])\n",
    "\n",
    "    # computed G@s\n",
    "    perface_grad = stack_gradient(G,s)\n",
    "    # compute perface poisson reconstruction error\n",
    "    error = np.linalg.norm(perface_grad-u, axis=1)\n",
    "    # the single value poisson reconstruction error\n",
    "    if (print_poisson_err):\n",
    "        print(\"Single-valued Poisson reconstruction error: \", np.linalg.norm(G@s - uu, 2))\n",
    "    return s, error"
   ]
  },
  {
   "cell_type": "markdown",
   "metadata": {},
   "source": [
    "- Visualization of computed scalar function and its gradient.\n",
    "\n",
    "Red lines represent the gradient field; Black lines represent the original interpolated vector field. "
   ]
  },
  {
   "cell_type": "code",
   "execution_count": 9,
   "metadata": {},
   "outputs": [
    {
     "name": "stdout",
     "output_type": "stream",
     "text": [
      "Single-valued Poisson reconstruction error:  7.375992424336969\n"
     ]
    },
    {
     "data": {
      "application/vnd.jupyter.widget-view+json": {
       "model_id": "42b6fac5db7f4921bf8339c65178addb",
       "version_major": 2,
       "version_minor": 0
      },
      "text/plain": [
       "Renderer(camera=PerspectiveCamera(children=(DirectionalLight(color='white', intensity=0.6, position=(0.0, 0.0,…"
      ]
     },
     "metadata": {},
     "output_type": "display_data"
    },
    {
     "name": "stdout",
     "output_type": "stream",
     "text": [
      "Plot saved to file q2_1.html.\n"
     ]
    },
    {
     "data": {
      "text/html": [
       "\n",
       "        <iframe\n",
       "            width=\"700\"\n",
       "            height=\"600\"\n",
       "            src=\"q2_1.html\"\n",
       "            frameborder=\"0\"\n",
       "            allowfullscreen\n",
       "            \n",
       "        ></iframe>\n",
       "        "
      ],
      "text/plain": [
       "<IPython.lib.display.IFrame at 0x11fb85590>"
      ]
     },
     "execution_count": 9,
     "metadata": {},
     "output_type": "execute_result"
    }
   ],
   "source": [
    "R = align_field_hard(v, f, tt, cf, c)\n",
    "[s, e] = reconstruct_scalar(v,f,R,True)\n",
    "# visualize the scalar function s by color map\n",
    "p = mp.plot(v, f, c=s)\n",
    "# compute and overlay gradient\n",
    "G = igl.grad(v, f)\n",
    "grad = stack_gradient(G, s)\n",
    "avg = igl.avg_edge_length(v, f)/2\n",
    "B = igl.barycenter(v, f)\n",
    "p.add_lines(B, B + grad*avg, shading={\"line_color\":\"red\"})\n",
    "p.add_lines(B, B + R*avg)\n",
    "p.save(\"q2_1.html\")\n",
    "IFrame(src='q2_1.html', width=700, height=600)"
   ]
  },
  {
   "cell_type": "markdown",
   "metadata": {},
   "source": [
    "- Plots of the Poisson reconstruction error."
   ]
  },
  {
   "cell_type": "code",
   "execution_count": 10,
   "metadata": {},
   "outputs": [
    {
     "data": {
      "application/vnd.jupyter.widget-view+json": {
       "model_id": "d955e215b58e4d80bc54677058b6ed6a",
       "version_major": 2,
       "version_minor": 0
      },
      "text/plain": [
       "Renderer(camera=PerspectiveCamera(children=(DirectionalLight(color='white', intensity=0.6, position=(0.0, 0.0,…"
      ]
     },
     "metadata": {},
     "output_type": "display_data"
    },
    {
     "name": "stdout",
     "output_type": "stream",
     "text": [
      "Plot saved to file q2_2.html.\n"
     ]
    },
    {
     "data": {
      "text/html": [
       "\n",
       "        <iframe\n",
       "            width=\"700\"\n",
       "            height=\"600\"\n",
       "            src=\"q2_2.html\"\n",
       "            frameborder=\"0\"\n",
       "            allowfullscreen\n",
       "            \n",
       "        ></iframe>\n",
       "        "
      ],
      "text/plain": [
       "<IPython.lib.display.IFrame at 0x11fb8b150>"
      ]
     },
     "execution_count": 10,
     "metadata": {},
     "output_type": "execute_result"
    }
   ],
   "source": [
    "# visualize the poisson error by a color map\n",
    "p2 = mp.plot(v, f, c=e)\n",
    "p2.save(\"q2_2.html\")\n",
    "IFrame(src='q2_2.html', width=700, height=600)"
   ]
  },
  {
   "cell_type": "markdown",
   "metadata": {},
   "source": [
    "- An ASCII dump of the reconstructed scalar function "
   ]
  },
  {
   "cell_type": "code",
   "execution_count": 11,
   "metadata": {},
   "outputs": [
    {
     "name": "stdout",
     "output_type": "stream",
     "text": [
      "[ 0.         -0.76446078  0.91827024  0.96196406  0.04628406 -0.03356961\n",
      "  0.1166635   0.0375994   1.06933835  0.10824325  0.34406749  0.99538273\n",
      "  0.60028518  0.37920076  0.26212548 -0.38586703 -0.30455482  0.09887735\n",
      "  0.14013563 -0.06500472  0.47010329  0.31292944  0.58217911  0.18454032\n",
      "  1.01814364  0.97105447  1.05592144  0.50693882  0.59984643  0.53276802\n",
      "  0.31799488  0.73893937  0.57953849  0.19878317  0.1723607   0.00907722\n",
      "  0.05661388 -0.12403086  0.14186179  0.21680932  0.09211278 -0.03750692\n",
      " -0.12641178 -0.58201624  0.14224591  0.12540661  0.1469902   0.195992\n",
      "  0.08153612 -0.15066812 -0.20635038 -0.50386682 -0.19136987  0.00517524\n",
      "  0.05415595  0.12011937  0.09515583  0.08696624  0.11197622 -0.07971778\n",
      " -0.007735   -0.01119985 -0.00718443  0.10580208 -0.31369651 -0.45287251\n",
      " -0.33441159  0.05587202  0.12412472  0.18782344  0.27934195  0.15011393\n",
      "  0.20065495  0.28975587  0.25268915  0.41590342  0.54464477  0.43764354\n",
      "  0.72893258  1.03978566  0.76909781  0.62105231  0.75693082  0.96432425\n",
      "  0.6903468   0.72198522  0.54334751  0.40188341  0.14580503  0.05644384\n",
      "  0.25073922  0.22219846  0.34222303  0.75513919  0.71056087  0.40878327\n",
      "  0.35336882  0.79092343  0.28268392  0.2756651   0.20918193  0.16154812\n",
      "  0.30698675  0.37766431  0.49123574  0.62706198  0.3312361   0.26986346\n",
      "  0.35425115  0.46410441  0.19143324  0.42609354  0.39812621  0.43189789\n",
      "  0.41211432  0.28548178  0.48269822  0.57969953  0.45481956  0.23932568\n",
      "  0.35567194  0.11711489  0.1068222   0.04600861 -0.04197915 -0.10253466\n",
      " -0.03674053  0.11358972  0.12151052  0.06036552 -0.00725314  0.16640812\n",
      " -0.21060748 -0.20667757 -0.25094185 -0.40338192 -0.19108776 -0.09809691\n",
      " -0.01852615  0.05293709  0.11624996  0.03203669  0.07052333  0.00787242\n",
      " -0.08388299 -0.02238591 -0.05810344  0.09798634  0.07859086  0.12272802\n",
      "  0.1539035   0.14887944  0.12741218  0.17623772  0.21615686  0.17241427\n",
      "  0.17966558  0.12245252 -0.11656933 -0.06662391 -0.18836859  0.16257355\n",
      "  0.21524966  0.24790818  0.24615513  0.09361138  0.11173671  0.08037238\n",
      "  0.06099859  0.04015753  0.09231909  0.11275226  0.10974994  0.1217985\n",
      "  0.07731141  0.11479895  0.06223685  0.00177878  0.01894822  0.08032435\n",
      "  0.0344314   0.08643562  0.1147784   0.1239945   0.12803255  0.03327449\n",
      "  0.00272657  0.13769578  0.11522979  0.11616039 -0.26296787 -0.30979888\n",
      "  0.07957365  0.57395283  0.6478158   0.03228417 -0.01325765 -0.0872161\n",
      " -0.10889633 -0.01822499 -0.06594087  0.28549791  0.16342165 -0.28908769\n",
      " -0.17158099 -0.21485563 -0.30056578 -0.48284535 -0.43231536 -0.49713248\n",
      " -0.67715645 -0.61508175  0.07923684  0.66525767  0.7860808   0.69407958\n",
      "  0.61587024  1.03855223  0.99554337  0.90916582  0.88212088  0.87328517\n",
      "  1.05837912  0.74681389  1.06750569  0.88295959  0.89951013  0.85103348\n",
      "  0.82707334  0.73817894  0.94514043  0.69836088  0.89944734  0.87192095\n",
      "  0.68290089  0.80112429  0.38671878  0.76312951  0.65746251  0.56277991\n",
      "  0.4901803   0.47800979  0.66811039  0.59492789  0.51968842  0.42972993\n",
      "  0.69673308  1.01780363  0.71226656  0.63081675  0.53200165  0.48264853\n",
      "  0.47528941  0.44180784  0.4214744   0.33943484  0.34870778  0.2508696\n",
      "  0.33843506  0.36995984  0.63170428  0.62758448  0.63685219  0.53253927\n",
      "  0.45951169  0.28577925  0.24317982  0.24407068  0.29027556  0.29397995\n",
      "  0.55744379  0.65027822  0.75278212  0.97670905  0.83399405  0.95805267\n",
      "  0.85154144  0.85785759  0.62835644  0.57581034  0.61203061  0.72039126\n",
      "  0.44069327  0.80700284  0.2245827   0.51983968  0.89191989  0.79772737\n",
      "  0.21121194  0.17954782  0.12706027  0.13982349 -0.06633872 -0.04124803\n",
      " -0.02166212 -0.04360574 -0.04643433 -0.01356453  0.02546004 -0.03018566\n",
      "  0.04864721  0.09029068  0.13204517  0.17226379  0.01744329  0.12422809\n",
      "  0.1736926   0.08298177  0.15890417 -0.43550107 -0.5240786  -0.36398984\n",
      "  0.09557564  0.07656659  0.04964609  0.12629526  0.04725683  0.08929538\n",
      "  0.1527156   0.19210355  0.10322966  0.24670272  0.32741164  0.30646656\n",
      "  0.20235024  0.27933482  0.31525086  0.32794092  0.35954703  0.23337222\n",
      "  0.25735963  0.43298845  0.49816049  0.5416126   0.28638244  0.41404318\n",
      "  0.20089295  0.39069104  0.47285447  0.55067042  0.24054522  0.34660333\n",
      "  0.17084164 -0.14161076 -0.33091815 -0.00256489 -0.07326558 -0.06415428\n",
      "  0.15648023  0.03726404  0.10851501  0.11528217  0.11276155  0.11844731\n",
      "  0.0937515   0.10187644  0.0232757   0.04147955  0.06736127 -0.07702499\n",
      "  0.04051771 -0.01854502 -0.03902904  0.05833942  0.02187187  0.03109543\n",
      "  0.11466612  0.12132435  0.63213688 -0.11932842 -0.27475572 -0.2505295\n",
      " -0.38651657  0.83979594  0.9379876   0.80635877  0.74185338  0.50656216\n",
      "  0.45768765  0.37750628  0.36386657  0.40308752  0.38937705  0.29681288\n",
      "  0.3684103   0.37855012  0.41855996  0.48901995  0.22732188  0.67764191\n",
      "  0.88591705  0.70272941  0.81727965  0.20928281  0.89652456  0.13271354\n",
      "  0.01573641  0.21035132 -0.56371962  0.12569047  0.21728933  0.54299882\n",
      "  0.54199232  0.09361876 -0.00269917  0.06601911 -0.17531912  0.74945009\n",
      "  0.87345924  0.19527264 -0.64691278]\n"
     ]
    }
   ],
   "source": [
    "# print out #V x 1 vector of the reconstructed scalar function\n",
    "print(s)"
   ]
  },
  {
   "cell_type": "markdown",
   "metadata": {},
   "source": [
    "# 3. Harmonic and LSCM Parameterizations\n",
    "\n",
    "- Visualization of the computed mapping functions and the gradients for harmonic mapping.\n"
   ]
  },
  {
   "cell_type": "code",
   "execution_count": 12,
   "metadata": {},
   "outputs": [
    {
     "data": {
      "application/vnd.jupyter.widget-view+json": {
       "model_id": "190ebd0d48d04731b756403ecf1c8ed4",
       "version_major": 2,
       "version_minor": 0
      },
      "text/plain": [
       "HBox(children=(Output(), Output()))"
      ]
     },
     "metadata": {},
     "output_type": "display_data"
    },
    {
     "data": {
      "application/vnd.jupyter.widget-view+json": {
       "model_id": "9e58693e2c3f42df93b51154e5904cca",
       "version_major": 2,
       "version_minor": 0
      },
      "text/plain": [
       "Renderer(camera=PerspectiveCamera(children=(DirectionalLight(color='white', intensity=0.6, position=(1.9967555…"
      ]
     },
     "metadata": {},
     "output_type": "display_data"
    },
    {
     "name": "stdout",
     "output_type": "stream",
     "text": [
      "Plot saved to file q3_11.html.\n"
     ]
    },
    {
     "data": {
      "text/html": [
       "\n",
       "        <iframe\n",
       "            width=\"700\"\n",
       "            height=\"600\"\n",
       "            src=\"q3_11.html\"\n",
       "            frameborder=\"0\"\n",
       "            allowfullscreen\n",
       "            \n",
       "        ></iframe>\n",
       "        "
      ],
      "text/plain": [
       "<IPython.lib.display.IFrame at 0x11fc16ad0>"
      ]
     },
     "execution_count": 12,
     "metadata": {},
     "output_type": "execute_result"
    }
   ],
   "source": [
    "vh, fh = igl.read_triangle_mesh(\"data/camel_head.off\")\n",
    "tth, _ = igl.triangle_triangle_adjacency(fh)\n",
    "\n",
    "def harmonic_parametrization(V, F, TT):\n",
    "    # compute largest ordered boundary loops in the given mesh, \n",
    "    # F (#F x 3) => bnd (#b x 1)\n",
    "    bnd = igl.boundary_loop(F)\n",
    "    # V (#V x 3), bnd (#b x 1) => bnd_uv (#b x 2) 2D pos on the unit circle for bnd vertices\n",
    "    bnd_uv = igl.map_vertices_to_circle(V, bnd)\n",
    "    # solve Laplace equation with Dirichlet boundary conditions\n",
    "    uv = igl.harmonic(V,F,bnd,bnd_uv,1)\n",
    "    return uv\n",
    "\n",
    "uv = harmonic_parametrization(vh, fh, tth)\n",
    "# plot mesh with uv\n",
    "us = uv[:,0]\n",
    "vs = uv[:,1]\n",
    "p = mp.subplot(vh, fh, c=us, uv=uv, s=[1, 2, 0])\n",
    "mp.subplot(uv, fh, uv=uv, shading={\"wireframe\": True}, data=p, s=[1, 2, 1])\n",
    "# compute and overlay gradient\n",
    "Bh = igl.barycenter(vh, fh)\n",
    "avgh = igl.avg_edge_length(vh, fh)/2\n",
    "G = igl.grad(vh, fh)\n",
    "Gu = stack_gradient(G, us)\n",
    "Gv = stack_gradient(G, vs)\n",
    "p2 = mp.plot(vh, fh, c=us)\n",
    "p2.add_lines(Bh, Bh + Gu*avgh, shading={\"line_color\":\"magenta\"})\n",
    "p2.add_lines(Bh, Bh + Gv*avgh, shading={\"line_color\":\"yellow\"})\n",
    "\n",
    "p.save(\"q3_11.html\")\n",
    "IFrame(src='q3_11.html', width=700, height=600)"
   ]
  },
  {
   "cell_type": "code",
   "execution_count": 13,
   "metadata": {},
   "outputs": [
    {
     "name": "stdout",
     "output_type": "stream",
     "text": [
      "Plot saved to file q3_12.html.\n"
     ]
    },
    {
     "data": {
      "text/html": [
       "\n",
       "        <iframe\n",
       "            width=\"700\"\n",
       "            height=\"600\"\n",
       "            src=\"q3_12.html\"\n",
       "            frameborder=\"0\"\n",
       "            allowfullscreen\n",
       "            \n",
       "        ></iframe>\n",
       "        "
      ],
      "text/plain": [
       "<IPython.lib.display.IFrame at 0x11fb63c10>"
      ]
     },
     "execution_count": 13,
     "metadata": {},
     "output_type": "execute_result"
    }
   ],
   "source": [
    "p2.save(\"q3_12.html\")\n",
    "IFrame(src='q3_12.html', width=700, height=600)"
   ]
  },
  {
   "cell_type": "markdown",
   "metadata": {},
   "source": [
    "- Visualization of the computed mapping functions and the gradients for lscm mapping."
   ]
  },
  {
   "cell_type": "code",
   "execution_count": 20,
   "metadata": {},
   "outputs": [
    {
     "data": {
      "application/vnd.jupyter.widget-view+json": {
       "model_id": "7bbb5e3f9c6943368e996f19bd75513c",
       "version_major": 2,
       "version_minor": 0
      },
      "text/plain": [
       "HBox(children=(Output(), Output()))"
      ]
     },
     "metadata": {},
     "output_type": "display_data"
    },
    {
     "data": {
      "application/vnd.jupyter.widget-view+json": {
       "model_id": "eb2ac8d9402a4fd6bdd48ec5bf23d54d",
       "version_major": 2,
       "version_minor": 0
      },
      "text/plain": [
       "Renderer(camera=PerspectiveCamera(children=(DirectionalLight(color='white', intensity=0.6, position=(1.9967555…"
      ]
     },
     "metadata": {},
     "output_type": "display_data"
    },
    {
     "name": "stdout",
     "output_type": "stream",
     "text": [
      "Plot saved to file q3_21.html.\n"
     ]
    },
    {
     "data": {
      "text/html": [
       "\n",
       "        <iframe\n",
       "            width=\"700\"\n",
       "            height=\"600\"\n",
       "            src=\"q3_21.html\"\n",
       "            frameborder=\"0\"\n",
       "            allowfullscreen\n",
       "            \n",
       "        ></iframe>\n",
       "        "
      ],
      "text/plain": [
       "<IPython.lib.display.IFrame at 0x12a0100d0>"
      ]
     },
     "execution_count": 20,
     "metadata": {},
     "output_type": "execute_result"
    }
   ],
   "source": [
    "def lscm_parametrization(V, F, TT):\n",
    "    bnd = igl.boundary_loop(F)\n",
    "    # fix two points\n",
    "    b = np.array([bnd[0], bnd[-1]])\n",
    "    bc = np.array([[0., 0.],[1., 0.]])\n",
    "    # Least-squares conformal map: bnd (#b x 1) boundary indices, bc (#b x 2) list of boundary values\n",
    "    uv = igl.lscm(V,F,b,bc)\n",
    "    uv = np.array(uv[1])\n",
    "    return uv\n",
    "\n",
    "uv = lscm_parametrization(vh, fh, tth)\n",
    "us = uv[:,0]\n",
    "vs = uv[:,1]\n",
    "p = mp.subplot(vh, fh, uv=uv, c=us , s=[1, 2, 0])\n",
    "mp.subplot(uv, fh, uv=uv, shading={\"wireframe\": True}, data=p, s=[1, 2, 1])\n",
    "# compute and overlay gradient\n",
    "Bh = igl.barycenter(vh, fh)\n",
    "avgh = igl.avg_edge_length(vh, fh)/2\n",
    "G = igl.grad(vh, fh)\n",
    "Gu = stack_gradient(G, us)\n",
    "Gv = stack_gradient(G, vs)\n",
    "p2 = mp.plot(vh, fh, c=us)\n",
    "p2.add_lines(Bh, Bh + Gu*avgh, shading={\"line_color\":\"magenta\"})\n",
    "p2.add_lines(Bh, Bh + Gv*avgh, shading={\"line_color\":\"yellow\"})\n",
    "\n",
    "p.save(\"q3_21.html\")\n",
    "IFrame(src='q3_21.html', width=700, height=600)"
   ]
  },
  {
   "cell_type": "code",
   "execution_count": 15,
   "metadata": {},
   "outputs": [
    {
     "name": "stdout",
     "output_type": "stream",
     "text": [
      "Plot saved to file q3_22.html.\n"
     ]
    },
    {
     "data": {
      "text/html": [
       "\n",
       "        <iframe\n",
       "            width=\"700\"\n",
       "            height=\"600\"\n",
       "            src=\"q3_22.html\"\n",
       "            frameborder=\"0\"\n",
       "            allowfullscreen\n",
       "            \n",
       "        ></iframe>\n",
       "        "
      ],
      "text/plain": [
       "<IPython.lib.display.IFrame at 0x11fc14890>"
      ]
     },
     "execution_count": 15,
     "metadata": {},
     "output_type": "execute_result"
    }
   ],
   "source": [
    "p2.save(\"q3_22.html\")\n",
    "IFrame(src='q3_22.html', width=700, height=600)"
   ]
  },
  {
   "cell_type": "markdown",
   "metadata": {},
   "source": [
    "# 4. Editing a parameterization with vector fields\n",
    "\n",
    "## Editing the parameterization\n",
    "\n",
    "## Detecting problems with the parameterization\n",
    "\n",
    "- Visualization of the edited parameterization.\n",
    "- Visualization of flipped elements.\n",
    "- An ASCII dump of the flipped triangle indices resulting from an edited harmonic parameterization of the mesh `irr4-cyl2.off` where the parameterization's `V` coordinate is replaced with a scalar field designed from the gradient vector constraints provided in `irr4-cyl2.constraints`"
   ]
  },
  {
   "cell_type": "code",
   "execution_count": 16,
   "metadata": {},
   "outputs": [
    {
     "data": {
      "application/vnd.jupyter.widget-view+json": {
       "model_id": "f9e97f0471184fe8b932f24c19c89c96",
       "version_major": 2,
       "version_minor": 0
      },
      "text/plain": [
       "Renderer(camera=PerspectiveCamera(children=(DirectionalLight(color='white', intensity=0.6, position=(0.0, 0.0,…"
      ]
     },
     "metadata": {},
     "output_type": "display_data"
    },
    {
     "name": "stdout",
     "output_type": "stream",
     "text": [
      "Plot saved to file q4_1.html.\n"
     ]
    },
    {
     "data": {
      "text/html": [
       "\n",
       "        <iframe\n",
       "            width=\"700\"\n",
       "            height=\"600\"\n",
       "            src=\"q4_1.html\"\n",
       "            frameborder=\"0\"\n",
       "            allowfullscreen\n",
       "            \n",
       "        ></iframe>\n",
       "        "
      ],
      "text/plain": [
       "<IPython.lib.display.IFrame at 0x11fc20490>"
      ]
     },
     "execution_count": 16,
     "metadata": {},
     "output_type": "execute_result"
    }
   ],
   "source": [
    "def edit_parameterization(v, f, tt, cf, c):\n",
    "    # user-guided vector field and perface gradient\n",
    "    R = align_field_hard(v, f, tt, cf, c)\n",
    "    [s, _] = reconstruct_scalar(v, f, R)\n",
    "    G = igl.grad(v, f)\n",
    "    Gs = stack_gradient(G, s)\n",
    "    # subsitute V by the gradient of the user-guided vector field\n",
    "    uv = harmonic_parametrization(v, f, tt)\n",
    "    uv = np.vstack((uv[:,0], s)).T\n",
    "    return uv\n",
    "\n",
    "v, f = igl.read_triangle_mesh(\"data/irr4-cyl2.off\")\n",
    "tt, _ = igl.triangle_triangle_adjacency(f)\n",
    "c = np.loadtxt(\"data/irr4-cyl2.constraints\")\n",
    "cf = c[:, 0].astype(np.int64)\n",
    "c = c[:, 1:]\n",
    "\n",
    "uv = edit_parameterization(v, f, tt, cf, c)\n",
    "# replace one of the U, V functions with a function obtained from a smooth user-guided vector field\n",
    "# plot mesh with uv\n",
    "avg = igl.avg_edge_length(v, f)/2\n",
    "B = igl.barycenter(v, f)\n",
    "G = igl.grad(v, f)\n",
    "grad = stack_gradient(G, s)\n",
    "p = mp.plot(v, f, uv=uv, shading={\"wireframe\": True})\n",
    "p.add_lines(B, B + grad*avg, shading={\"line_color\": \"cyan\"})\n",
    "p.save(\"q4_1.html\")\n",
    "IFrame(src='q4_1.html', width=700, height=600)"
   ]
  },
  {
   "cell_type": "code",
   "execution_count": 17,
   "metadata": {},
   "outputs": [
    {
     "data": {
      "application/vnd.jupyter.widget-view+json": {
       "model_id": "81c69d27c29a405a87f51fdcf22c2a3a",
       "version_major": 2,
       "version_minor": 0
      },
      "text/plain": [
       "Renderer(camera=PerspectiveCamera(children=(DirectionalLight(color='white', intensity=0.6, position=(0.0, 0.15…"
      ]
     },
     "metadata": {},
     "output_type": "display_data"
    },
    {
     "name": "stdout",
     "output_type": "stream",
     "text": [
      "Plot saved to file q4_2.html.\n"
     ]
    },
    {
     "data": {
      "text/html": [
       "\n",
       "        <iframe\n",
       "            width=\"700\"\n",
       "            height=\"600\"\n",
       "            src=\"q4_2.html\"\n",
       "            frameborder=\"0\"\n",
       "            allowfullscreen\n",
       "            \n",
       "        ></iframe>\n",
       "        "
      ],
      "text/plain": [
       "<IPython.lib.display.IFrame at 0x11fb8c990>"
      ]
     },
     "execution_count": 17,
     "metadata": {},
     "output_type": "execute_result"
    }
   ],
   "source": [
    "p2 = mp.plot(uv, f, uv=uv, shading={\"wireframe\": True})\n",
    "p2.save(\"q4_2.html\")\n",
    "IFrame(src='q4_2.html', width=700, height=600)"
   ]
  },
  {
   "cell_type": "markdown",
   "metadata": {},
   "source": [
    "- Visualization of flipped elements.\n",
    "\n",
    "## Note on flipped element:\n",
    "\n",
    "To determine which is the \"correct\" direction, we use the original representation and compute the normals to each triangle. \n",
    "\n",
    "Using the same cross product order (same clockwise direction) to compute the normals from the uv representation.\n",
    "\n",
    "We then compute the angle between the \"correct normals\" and the normals from the uv representation. If that angle is larger than 180 degrees, \n",
    "then it means the triangle is flipped.\n",
    "\n",
    "Discussed with some fellow students, some of them use `igl.doublearea(uv, f)` and pick the triangle with negative signed area to be flipped - this should gives exactly the opposite result as mine - I believe mine is better, as we don't know in the sign results from `igl.doublearea(uv, f)`, whether the positive or negative direction matches the direction in original mesh."
   ]
  },
  {
   "cell_type": "code",
   "execution_count": 18,
   "metadata": {},
   "outputs": [
    {
     "data": {
      "application/vnd.jupyter.widget-view+json": {
       "model_id": "a607371635fd4ba5bfbf4ccf2a05438c",
       "version_major": 2,
       "version_minor": 0
      },
      "text/plain": [
       "Renderer(camera=PerspectiveCamera(children=(DirectionalLight(color='white', intensity=0.6, position=(0.0, 0.0,…"
      ]
     },
     "metadata": {},
     "output_type": "display_data"
    },
    {
     "name": "stdout",
     "output_type": "stream",
     "text": [
      "Plot saved to file q4_3.html.\n"
     ]
    },
    {
     "data": {
      "text/html": [
       "\n",
       "        <iframe\n",
       "            width=\"700\"\n",
       "            height=\"600\"\n",
       "            src=\"q4_3.html\"\n",
       "            frameborder=\"0\"\n",
       "            allowfullscreen\n",
       "            \n",
       "        ></iframe>\n",
       "        "
      ],
      "text/plain": [
       "<IPython.lib.display.IFrame at 0x11fc99490>"
      ]
     },
     "execution_count": 18,
     "metadata": {},
     "output_type": "execute_result"
    }
   ],
   "source": [
    "def check_flipped(f, v, uv):\n",
    "    flipped = []\n",
    "    for i in range(f.shape[0]):\n",
    "        # normal from the original representation which is the \"correct direction\"\n",
    "        x1 = v[f[i, 0]]\n",
    "        x2 = v[f[i, 1]]\n",
    "        x3 = v[f[i, 2]]\n",
    "        e1 = x2 - x1\n",
    "        e2 = x3 - x1\n",
    "        nx = np.cross(e1, e2)\n",
    "        # normal from the uv plane\n",
    "        uv1 = uv[f[i, 0]]\n",
    "        uv2 = uv[f[i, 1]]\n",
    "        uv3 = uv[f[i, 2]]\n",
    "        uv_e1 = np.hstack((uv2 - uv1, 0))\n",
    "        uv_e2 = np.hstack((uv3 - uv1, 0))\n",
    "        nuv = np.cross(uv_e1, uv_e2)\n",
    "        # compute the angle between the normals, if the angle between is larger than 180 deg then it is flipped\n",
    "        angle = np.arccos(nx.dot(nuv)/(np.linalg.norm(nx)*np.linalg.norm(nuv)))\n",
    "        if angle > np.pi/2:\n",
    "            flipped.append(i)\n",
    "    return flipped\n",
    "\n",
    "flipped = check_flipped(f, v, uv)\n",
    "col = np.ones_like(f)\n",
    "col[flipped, 1:] = 0\n",
    "p = mp.plot(v, f, c=col, shading={\"wireframe\": True})\n",
    "p.save(\"q4_3.html\")\n",
    "IFrame(src='q4_3.html', width=700, height=600)"
   ]
  },
  {
   "cell_type": "markdown",
   "metadata": {},
   "source": [
    "- An ASCII dump of the flipped triangle indices resulting from an edited harmonic parameterization of the mesh `irr4-cyl2.off` where the parameterization's `V` coordinate is replaced with a scalar field designed from the gradient vector constraints provided in `irr4-cyl2.constraints`"
   ]
  },
  {
   "cell_type": "code",
   "execution_count": 19,
   "metadata": {},
   "outputs": [
    {
     "name": "stdout",
     "output_type": "stream",
     "text": [
      "[6, 24, 25, 29, 71, 87, 88, 89, 91, 92, 93, 94, 104, 105, 302, 304, 308, 309, 310, 311, 312, 313, 314, 315, 316, 317, 318, 319, 323, 325, 333, 336, 521, 524, 525, 526, 527, 528, 529, 537, 538, 540, 547, 548, 565, 566, 567, 568, 637, 638, 640, 641, 642, 643, 644, 645, 646, 647, 648, 649, 650, 651, 652, 653, 654, 655, 656, 657, 658, 659, 660, 661, 662, 663, 664, 669, 670, 732, 740, 741, 742, 743, 744, 745]\n"
     ]
    }
   ],
   "source": [
    "print(flipped)"
   ]
  }
 ],
 "metadata": {
  "kernelspec": {
   "display_name": "Python 3 (ipykernel)",
   "language": "python",
   "name": "python3"
  },
  "language_info": {
   "codemirror_mode": {
    "name": "ipython",
    "version": 3
   },
   "file_extension": ".py",
   "mimetype": "text/x-python",
   "name": "python",
   "nbconvert_exporter": "python",
   "pygments_lexer": "ipython3",
   "version": "3.11.8"
  }
 },
 "nbformat": 4,
 "nbformat_minor": 4
}
